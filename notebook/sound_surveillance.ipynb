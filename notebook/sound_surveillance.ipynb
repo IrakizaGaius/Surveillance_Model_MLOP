{
 "cells": [
  {
   "cell_type": "markdown",
   "id": "348711e6",
   "metadata": {},
   "source": [
    "### 1. Setup & Imports"
   ]
  },
  {
   "cell_type": "code",
   "execution_count": 1,
   "id": "1170c4c8",
   "metadata": {},
   "outputs": [
    {
     "name": "stderr",
     "output_type": "stream",
     "text": [
      "2025-07-28 11:57:49.313860: I tensorflow/core/platform/cpu_feature_guard.cc:210] This TensorFlow binary is optimized to use available CPU instructions in performance-critical operations.\n",
      "To enable the following instructions: AVX2 FMA, in other operations, rebuild TensorFlow with the appropriate compiler flags.\n"
     ]
    }
   ],
   "source": [
    "import numpy as np\n",
    "import matplotlib.pyplot as plt\n",
    "import seaborn as sns\n",
    "import sys\n",
    "import os\n",
    "\n",
    "project_root = os.path.abspath(os.path.join('..'))\n",
    "if project_root not in sys.path:\n",
    "    sys.path.append(project_root)\n",
    "\n",
    "from sklearn.metrics import classification_report, confusion_matrix\n",
    "from src.preprocessing import load_data_from_directory\n",
    "from src.model import train_model, load_trained_model\n",
    "from src.prediction import predict_audio"
   ]
  },
  {
   "cell_type": "markdown",
   "id": "f6f40874",
   "metadata": {},
   "source": [
    "### Model Versioning"
   ]
  },
  {
   "cell_type": "code",
   "execution_count": 2,
   "id": "44de64e6",
   "metadata": {},
   "outputs": [],
   "source": [
    "# Define model version\n",
    "MODEL_VERSION = \"v1\"\n",
    "MODEL_NAME = f\"sesa_model_{MODEL_VERSION}.keras\"\n",
    "MODEL_DIR = f\"../models/model_{MODEL_VERSION}\"\n",
    "os.makedirs(MODEL_DIR, exist_ok=True)\n"
   ]
  },
  {
   "cell_type": "markdown",
   "id": "44c56275",
   "metadata": {},
   "source": [
    "### 2. Load and Preprocess Data"
   ]
  },
  {
   "cell_type": "code",
   "execution_count": 3,
   "id": "2cff6a57",
   "metadata": {},
   "outputs": [
    {
     "name": "stdout",
     "output_type": "stream",
     "text": [
      "[INFO] Loaded 1440 valid samples from '../data/train_v1' (augment=True)\n",
      "[INFO] Loaded 105 valid samples from '../data/test' (augment=False)\n",
      "Train: (1440, 1024), Labels: (array([0, 1, 2, 3]), array([420, 240, 510, 270]))\n",
      "Test: (105, 1024), Labels: (array([0, 1, 2, 3]), array([29, 21, 39, 16]))\n"
     ]
    }
   ],
   "source": [
    "X_train, y_train = load_data_from_directory(\"../data/train_v1\", augment=True)\n",
    "X_test, y_test = load_data_from_directory(\"../data/test\")\n",
    "print(f\"Train: {X_train.shape}, Labels: {np.unique(y_train, return_counts=True)}\")\n",
    "print(f\"Test: {X_test.shape}, Labels: {np.unique(y_test, return_counts=True)}\")"
   ]
  },
  {
   "cell_type": "markdown",
   "id": "95f135a3",
   "metadata": {},
   "source": [
    "### 3. Train the Model"
   ]
  },
  {
   "cell_type": "code",
   "execution_count": 4,
   "id": "902b752e",
   "metadata": {},
   "outputs": [
    {
     "name": "stdout",
     "output_type": "stream",
     "text": [
      "[INFO] Splitting data: train/test = 0.8/0.2\n",
      "[INFO] Building model...\n",
      "[INFO] Starting training...\n",
      "Epoch 1/100\n",
      "\u001b[1m31/36\u001b[0m \u001b[32m━━━━━━━━━━━━━━━━━\u001b[0m\u001b[37m━━━\u001b[0m \u001b[1m0s\u001b[0m 9ms/step - accuracy: 0.2974 - loss: 1.4496\n",
      "Epoch 1: val_loss improved from inf to 1.31092, saving model to ../models/model_v1/sesa_model_v1.keras\n",
      "\u001b[1m36/36\u001b[0m \u001b[32m━━━━━━━━━━━━━━━━━━━━\u001b[0m\u001b[37m\u001b[0m \u001b[1m2s\u001b[0m 18ms/step - accuracy: 0.3062 - loss: 1.4403 - val_accuracy: 0.4688 - val_loss: 1.3109 - learning_rate: 0.0010\n",
      "Epoch 2/100\n",
      "\u001b[1m36/36\u001b[0m \u001b[32m━━━━━━━━━━━━━━━━━━━━\u001b[0m\u001b[37m\u001b[0m \u001b[1m0s\u001b[0m 9ms/step - accuracy: 0.4398 - loss: 1.2689\n",
      "Epoch 2: val_loss improved from 1.31092 to 1.22386, saving model to ../models/model_v1/sesa_model_v1.keras\n",
      "\u001b[1m36/36\u001b[0m \u001b[32m━━━━━━━━━━━━━━━━━━━━\u001b[0m\u001b[37m\u001b[0m \u001b[1m0s\u001b[0m 13ms/step - accuracy: 0.4404 - loss: 1.2679 - val_accuracy: 0.5347 - val_loss: 1.2239 - learning_rate: 0.0010\n",
      "Epoch 3/100\n",
      "\u001b[1m32/36\u001b[0m \u001b[32m━━━━━━━━━━━━━━━━━\u001b[0m\u001b[37m━━━\u001b[0m \u001b[1m0s\u001b[0m 9ms/step - accuracy: 0.5041 - loss: 1.0892\n",
      "Epoch 3: val_loss improved from 1.22386 to 1.15803, saving model to ../models/model_v1/sesa_model_v1.keras\n",
      "\u001b[1m36/36\u001b[0m \u001b[32m━━━━━━━━━━━━━━━━━━━━\u001b[0m\u001b[37m\u001b[0m \u001b[1m0s\u001b[0m 12ms/step - accuracy: 0.5024 - loss: 1.0926 - val_accuracy: 0.5417 - val_loss: 1.1580 - learning_rate: 0.0010\n",
      "Epoch 4/100\n",
      "\u001b[1m36/36\u001b[0m \u001b[32m━━━━━━━━━━━━━━━━━━━━\u001b[0m\u001b[37m\u001b[0m \u001b[1m0s\u001b[0m 9ms/step - accuracy: 0.4976 - loss: 1.1397\n",
      "Epoch 4: val_loss improved from 1.15803 to 0.96083, saving model to ../models/model_v1/sesa_model_v1.keras\n",
      "\u001b[1m36/36\u001b[0m \u001b[32m━━━━━━━━━━━━━━━━━━━━\u001b[0m\u001b[37m\u001b[0m \u001b[1m0s\u001b[0m 13ms/step - accuracy: 0.4979 - loss: 1.1384 - val_accuracy: 0.5035 - val_loss: 0.9608 - learning_rate: 0.0010\n",
      "Epoch 5/100\n",
      "\u001b[1m32/36\u001b[0m \u001b[32m━━━━━━━━━━━━━━━━━\u001b[0m\u001b[37m━━━\u001b[0m \u001b[1m0s\u001b[0m 9ms/step - accuracy: 0.5468 - loss: 1.0742\n",
      "Epoch 5: val_loss improved from 0.96083 to 0.94416, saving model to ../models/model_v1/sesa_model_v1.keras\n",
      "\u001b[1m36/36\u001b[0m \u001b[32m━━━━━━━━━━━━━━━━━━━━\u001b[0m\u001b[37m\u001b[0m \u001b[1m0s\u001b[0m 13ms/step - accuracy: 0.5481 - loss: 1.0680 - val_accuracy: 0.5104 - val_loss: 0.9442 - learning_rate: 0.0010\n",
      "Epoch 6/100\n",
      "\u001b[1m32/36\u001b[0m \u001b[32m━━━━━━━━━━━━━━━━━\u001b[0m\u001b[37m━━━\u001b[0m \u001b[1m0s\u001b[0m 9ms/step - accuracy: 0.5541 - loss: 0.9801\n",
      "Epoch 6: val_loss did not improve from 0.94416\n",
      "\u001b[1m36/36\u001b[0m \u001b[32m━━━━━━━━━━━━━━━━━━━━\u001b[0m\u001b[37m\u001b[0m \u001b[1m0s\u001b[0m 11ms/step - accuracy: 0.5575 - loss: 0.9773 - val_accuracy: 0.5139 - val_loss: 0.9609 - learning_rate: 0.0010\n",
      "Epoch 7/100\n",
      "\u001b[1m31/36\u001b[0m \u001b[32m━━━━━━━━━━━━━━━━━\u001b[0m\u001b[37m━━━\u001b[0m \u001b[1m0s\u001b[0m 9ms/step - accuracy: 0.6242 - loss: 0.8822\n",
      "Epoch 7: val_loss improved from 0.94416 to 0.87055, saving model to ../models/model_v1/sesa_model_v1.keras\n",
      "\u001b[1m36/36\u001b[0m \u001b[32m━━━━━━━━━━━━━━━━━━━━\u001b[0m\u001b[37m\u001b[0m \u001b[1m0s\u001b[0m 13ms/step - accuracy: 0.6293 - loss: 0.8769 - val_accuracy: 0.5104 - val_loss: 0.8705 - learning_rate: 0.0010\n",
      "Epoch 8/100\n",
      "\u001b[1m31/36\u001b[0m \u001b[32m━━━━━━━━━━━━━━━━━\u001b[0m\u001b[37m━━━\u001b[0m \u001b[1m0s\u001b[0m 9ms/step - accuracy: 0.6655 - loss: 0.8255\n",
      "Epoch 8: val_loss improved from 0.87055 to 0.78400, saving model to ../models/model_v1/sesa_model_v1.keras\n",
      "\u001b[1m36/36\u001b[0m \u001b[32m━━━━━━━━━━━━━━━━━━━━\u001b[0m\u001b[37m\u001b[0m \u001b[1m0s\u001b[0m 13ms/step - accuracy: 0.6663 - loss: 0.8214 - val_accuracy: 0.6806 - val_loss: 0.7840 - learning_rate: 0.0010\n",
      "Epoch 9/100\n",
      "\u001b[1m35/36\u001b[0m \u001b[32m━━━━━━━━━━━━━━━━━━━\u001b[0m\u001b[37m━\u001b[0m \u001b[1m0s\u001b[0m 11ms/step - accuracy: 0.6666 - loss: 0.8276\n",
      "Epoch 9: val_loss did not improve from 0.78400\n",
      "\u001b[1m36/36\u001b[0m \u001b[32m━━━━━━━━━━━━━━━━━━━━\u001b[0m\u001b[37m\u001b[0m \u001b[1m0s\u001b[0m 13ms/step - accuracy: 0.6655 - loss: 0.8277 - val_accuracy: 0.5139 - val_loss: 0.8598 - learning_rate: 0.0010\n",
      "Epoch 10/100\n",
      "\u001b[1m31/36\u001b[0m \u001b[32m━━━━━━━━━━━━━━━━━\u001b[0m\u001b[37m━━━\u001b[0m \u001b[1m0s\u001b[0m 9ms/step - accuracy: 0.7240 - loss: 0.7231\n",
      "Epoch 10: val_loss did not improve from 0.78400\n",
      "\u001b[1m36/36\u001b[0m \u001b[32m━━━━━━━━━━━━━━━━━━━━\u001b[0m\u001b[37m\u001b[0m \u001b[1m0s\u001b[0m 11ms/step - accuracy: 0.7229 - loss: 0.7210 - val_accuracy: 0.6910 - val_loss: 1.0329 - learning_rate: 0.0010\n",
      "Epoch 11/100\n",
      "\u001b[1m31/36\u001b[0m \u001b[32m━━━━━━━━━━━━━━━━━\u001b[0m\u001b[37m━━━\u001b[0m \u001b[1m0s\u001b[0m 9ms/step - accuracy: 0.7322 - loss: 0.6673\n",
      "Epoch 11: val_loss did not improve from 0.78400\n",
      "\u001b[1m36/36\u001b[0m \u001b[32m━━━━━━━━━━━━━━━━━━━━\u001b[0m\u001b[37m\u001b[0m \u001b[1m0s\u001b[0m 11ms/step - accuracy: 0.7316 - loss: 0.6731 - val_accuracy: 0.5521 - val_loss: 1.0218 - learning_rate: 0.0010\n",
      "Epoch 12/100\n",
      "\u001b[1m31/36\u001b[0m \u001b[32m━━━━━━━━━━━━━━━━━\u001b[0m\u001b[37m━━━\u001b[0m \u001b[1m0s\u001b[0m 9ms/step - accuracy: 0.7285 - loss: 0.7018\n",
      "Epoch 12: val_loss improved from 0.78400 to 0.58978, saving model to ../models/model_v1/sesa_model_v1.keras\n",
      "\u001b[1m36/36\u001b[0m \u001b[32m━━━━━━━━━━━━━━━━━━━━\u001b[0m\u001b[37m\u001b[0m \u001b[1m0s\u001b[0m 13ms/step - accuracy: 0.7286 - loss: 0.7011 - val_accuracy: 0.7396 - val_loss: 0.5898 - learning_rate: 5.0000e-04\n",
      "Epoch 13/100\n",
      "\u001b[1m31/36\u001b[0m \u001b[32m━━━━━━━━━━━━━━━━━\u001b[0m\u001b[37m━━━\u001b[0m \u001b[1m0s\u001b[0m 9ms/step - accuracy: 0.7609 - loss: 0.6411\n",
      "Epoch 13: val_loss improved from 0.58978 to 0.58890, saving model to ../models/model_v1/sesa_model_v1.keras\n",
      "\u001b[1m36/36\u001b[0m \u001b[32m━━━━━━━━━━━━━━━━━━━━\u001b[0m\u001b[37m\u001b[0m \u001b[1m0s\u001b[0m 13ms/step - accuracy: 0.7614 - loss: 0.6415 - val_accuracy: 0.8056 - val_loss: 0.5889 - learning_rate: 5.0000e-04\n",
      "Epoch 14/100\n",
      "\u001b[1m32/36\u001b[0m \u001b[32m━━━━━━━━━━━━━━━━━\u001b[0m\u001b[37m━━━\u001b[0m \u001b[1m0s\u001b[0m 9ms/step - accuracy: 0.7965 - loss: 0.5633\n",
      "Epoch 14: val_loss did not improve from 0.58890\n",
      "\u001b[1m36/36\u001b[0m \u001b[32m━━━━━━━━━━━━━━━━━━━━\u001b[0m\u001b[37m\u001b[0m \u001b[1m0s\u001b[0m 11ms/step - accuracy: 0.7926 - loss: 0.5696 - val_accuracy: 0.7292 - val_loss: 0.6212 - learning_rate: 5.0000e-04\n",
      "Epoch 15/100\n",
      "\u001b[1m32/36\u001b[0m \u001b[32m━━━━━━━━━━━━━━━━━\u001b[0m\u001b[37m━━━\u001b[0m \u001b[1m0s\u001b[0m 9ms/step - accuracy: 0.7952 - loss: 0.5892\n",
      "Epoch 15: val_loss improved from 0.58890 to 0.50544, saving model to ../models/model_v1/sesa_model_v1.keras\n",
      "\u001b[1m36/36\u001b[0m \u001b[32m━━━━━━━━━━━━━━━━━━━━\u001b[0m\u001b[37m\u001b[0m \u001b[1m0s\u001b[0m 13ms/step - accuracy: 0.7926 - loss: 0.5905 - val_accuracy: 0.7743 - val_loss: 0.5054 - learning_rate: 5.0000e-04\n",
      "Epoch 16/100\n",
      "\u001b[1m31/36\u001b[0m \u001b[32m━━━━━━━━━━━━━━━━━\u001b[0m\u001b[37m━━━\u001b[0m \u001b[1m0s\u001b[0m 9ms/step - accuracy: 0.7756 - loss: 0.5882\n",
      "Epoch 16: val_loss improved from 0.50544 to 0.45941, saving model to ../models/model_v1/sesa_model_v1.keras\n",
      "\u001b[1m36/36\u001b[0m \u001b[32m━━━━━━━━━━━━━━━━━━━━\u001b[0m\u001b[37m\u001b[0m \u001b[1m0s\u001b[0m 12ms/step - accuracy: 0.7764 - loss: 0.5882 - val_accuracy: 0.8090 - val_loss: 0.4594 - learning_rate: 5.0000e-04\n",
      "Epoch 17/100\n",
      "\u001b[1m31/36\u001b[0m \u001b[32m━━━━━━━━━━━━━━━━━\u001b[0m\u001b[37m━━━\u001b[0m \u001b[1m0s\u001b[0m 9ms/step - accuracy: 0.7805 - loss: 0.5578\n",
      "Epoch 17: val_loss did not improve from 0.45941\n",
      "\u001b[1m36/36\u001b[0m \u001b[32m━━━━━━━━━━━━━━━━━━━━\u001b[0m\u001b[37m\u001b[0m \u001b[1m0s\u001b[0m 11ms/step - accuracy: 0.7809 - loss: 0.5577 - val_accuracy: 0.8542 - val_loss: 0.4686 - learning_rate: 5.0000e-04\n",
      "Epoch 18/100\n",
      "\u001b[1m32/36\u001b[0m \u001b[32m━━━━━━━━━━━━━━━━━\u001b[0m\u001b[37m━━━\u001b[0m \u001b[1m0s\u001b[0m 9ms/step - accuracy: 0.7884 - loss: 0.5520\n",
      "Epoch 18: val_loss did not improve from 0.45941\n",
      "\u001b[1m36/36\u001b[0m \u001b[32m━━━━━━━━━━━━━━━━━━━━\u001b[0m\u001b[37m\u001b[0m \u001b[1m0s\u001b[0m 11ms/step - accuracy: 0.7872 - loss: 0.5537 - val_accuracy: 0.7500 - val_loss: 0.6279 - learning_rate: 5.0000e-04\n",
      "Epoch 19/100\n",
      "\u001b[1m31/36\u001b[0m \u001b[32m━━━━━━━━━━━━━━━━━\u001b[0m\u001b[37m━━━\u001b[0m \u001b[1m0s\u001b[0m 9ms/step - accuracy: 0.7843 - loss: 0.5782\n",
      "Epoch 19: val_loss did not improve from 0.45941\n",
      "\u001b[1m36/36\u001b[0m \u001b[32m━━━━━━━━━━━━━━━━━━━━\u001b[0m\u001b[37m\u001b[0m \u001b[1m0s\u001b[0m 11ms/step - accuracy: 0.7816 - loss: 0.5802 - val_accuracy: 0.7847 - val_loss: 0.5217 - learning_rate: 5.0000e-04\n",
      "Epoch 20/100\n",
      "\u001b[1m31/36\u001b[0m \u001b[32m━━━━━━━━━━━━━━━━━\u001b[0m\u001b[37m━━━\u001b[0m \u001b[1m0s\u001b[0m 9ms/step - accuracy: 0.7988 - loss: 0.5037\n",
      "Epoch 20: val_loss improved from 0.45941 to 0.41554, saving model to ../models/model_v1/sesa_model_v1.keras\n",
      "\u001b[1m36/36\u001b[0m \u001b[32m━━━━━━━━━━━━━━━━━━━━\u001b[0m\u001b[37m\u001b[0m \u001b[1m0s\u001b[0m 13ms/step - accuracy: 0.7950 - loss: 0.5103 - val_accuracy: 0.8542 - val_loss: 0.4155 - learning_rate: 2.5000e-04\n",
      "Epoch 21/100\n",
      "\u001b[1m31/36\u001b[0m \u001b[32m━━━━━━━━━━━━━━━━━\u001b[0m\u001b[37m━━━\u001b[0m \u001b[1m0s\u001b[0m 9ms/step - accuracy: 0.8096 - loss: 0.5275\n",
      "Epoch 21: val_loss improved from 0.41554 to 0.41267, saving model to ../models/model_v1/sesa_model_v1.keras\n",
      "\u001b[1m36/36\u001b[0m \u001b[32m━━━━━━━━━━━━━━━━━━━━\u001b[0m\u001b[37m\u001b[0m \u001b[1m0s\u001b[0m 13ms/step - accuracy: 0.8104 - loss: 0.5243 - val_accuracy: 0.8472 - val_loss: 0.4127 - learning_rate: 2.5000e-04\n",
      "Epoch 22/100\n",
      "\u001b[1m31/36\u001b[0m \u001b[32m━━━━━━━━━━━━━━━━━\u001b[0m\u001b[37m━━━\u001b[0m \u001b[1m0s\u001b[0m 9ms/step - accuracy: 0.8094 - loss: 0.5092\n",
      "Epoch 22: val_loss did not improve from 0.41267\n",
      "\u001b[1m36/36\u001b[0m \u001b[32m━━━━━━━━━━━━━━━━━━━━\u001b[0m\u001b[37m\u001b[0m \u001b[1m0s\u001b[0m 12ms/step - accuracy: 0.8080 - loss: 0.5120 - val_accuracy: 0.8611 - val_loss: 0.4327 - learning_rate: 2.5000e-04\n",
      "Epoch 23/100\n",
      "\u001b[1m31/36\u001b[0m \u001b[32m━━━━━━━━━━━━━━━━━\u001b[0m\u001b[37m━━━\u001b[0m \u001b[1m0s\u001b[0m 10ms/step - accuracy: 0.7999 - loss: 0.5069\n",
      "Epoch 23: val_loss did not improve from 0.41267\n",
      "\u001b[1m36/36\u001b[0m \u001b[32m━━━━━━━━━━━━━━━━━━━━\u001b[0m\u001b[37m\u001b[0m \u001b[1m0s\u001b[0m 12ms/step - accuracy: 0.8015 - loss: 0.5038 - val_accuracy: 0.8542 - val_loss: 0.4274 - learning_rate: 2.5000e-04\n",
      "Epoch 24/100\n",
      "\u001b[1m35/36\u001b[0m \u001b[32m━━━━━━━━━━━━━━━━━━━\u001b[0m\u001b[37m━\u001b[0m \u001b[1m0s\u001b[0m 9ms/step - accuracy: 0.8004 - loss: 0.4906 \n",
      "Epoch 24: val_loss did not improve from 0.41267\n",
      "\u001b[1m36/36\u001b[0m \u001b[32m━━━━━━━━━━━━━━━━━━━━\u001b[0m\u001b[37m\u001b[0m \u001b[1m0s\u001b[0m 12ms/step - accuracy: 0.8010 - loss: 0.4905 - val_accuracy: 0.8576 - val_loss: 0.4231 - learning_rate: 2.5000e-04\n",
      "Epoch 25/100\n",
      "\u001b[1m31/36\u001b[0m \u001b[32m━━━━━━━━━━━━━━━━━\u001b[0m\u001b[37m━━━\u001b[0m \u001b[1m0s\u001b[0m 9ms/step - accuracy: 0.8407 - loss: 0.4509\n",
      "Epoch 25: val_loss improved from 0.41267 to 0.37368, saving model to ../models/model_v1/sesa_model_v1.keras\n",
      "\u001b[1m36/36\u001b[0m \u001b[32m━━━━━━━━━━━━━━━━━━━━\u001b[0m\u001b[37m\u001b[0m \u001b[1m1s\u001b[0m 13ms/step - accuracy: 0.8387 - loss: 0.4515 - val_accuracy: 0.8611 - val_loss: 0.3737 - learning_rate: 1.2500e-04\n",
      "Epoch 26/100\n",
      "\u001b[1m31/36\u001b[0m \u001b[32m━━━━━━━━━━━━━━━━━\u001b[0m\u001b[37m━━━\u001b[0m \u001b[1m0s\u001b[0m 9ms/step - accuracy: 0.8198 - loss: 0.4419\n",
      "Epoch 26: val_loss improved from 0.37368 to 0.35412, saving model to ../models/model_v1/sesa_model_v1.keras\n",
      "\u001b[1m36/36\u001b[0m \u001b[32m━━━━━━━━━━━━━━━━━━━━\u001b[0m\u001b[37m\u001b[0m \u001b[1m0s\u001b[0m 13ms/step - accuracy: 0.8207 - loss: 0.4434 - val_accuracy: 0.8715 - val_loss: 0.3541 - learning_rate: 1.2500e-04\n",
      "Epoch 27/100\n",
      "\u001b[1m32/36\u001b[0m \u001b[32m━━━━━━━━━━━━━━━━━\u001b[0m\u001b[37m━━━\u001b[0m \u001b[1m0s\u001b[0m 11ms/step - accuracy: 0.8253 - loss: 0.4726\n",
      "Epoch 27: val_loss did not improve from 0.35412\n",
      "\u001b[1m36/36\u001b[0m \u001b[32m━━━━━━━━━━━━━━━━━━━━\u001b[0m\u001b[37m\u001b[0m \u001b[1m0s\u001b[0m 13ms/step - accuracy: 0.8254 - loss: 0.4731 - val_accuracy: 0.8889 - val_loss: 0.3664 - learning_rate: 1.2500e-04\n",
      "Epoch 28/100\n",
      "\u001b[1m34/36\u001b[0m \u001b[32m━━━━━━━━━━━━━━━━━━\u001b[0m\u001b[37m━━\u001b[0m \u001b[1m0s\u001b[0m 10ms/step - accuracy: 0.8418 - loss: 0.4090\n",
      "Epoch 28: val_loss improved from 0.35412 to 0.33534, saving model to ../models/model_v1/sesa_model_v1.keras\n",
      "\u001b[1m36/36\u001b[0m \u001b[32m━━━━━━━━━━━━━━━━━━━━\u001b[0m\u001b[37m\u001b[0m \u001b[1m1s\u001b[0m 14ms/step - accuracy: 0.8411 - loss: 0.4106 - val_accuracy: 0.8924 - val_loss: 0.3353 - learning_rate: 1.2500e-04\n",
      "Epoch 29/100\n",
      "\u001b[1m31/36\u001b[0m \u001b[32m━━━━━━━━━━━━━━━━━\u001b[0m\u001b[37m━━━\u001b[0m \u001b[1m0s\u001b[0m 9ms/step - accuracy: 0.8346 - loss: 0.4196\n",
      "Epoch 29: val_loss did not improve from 0.33534\n",
      "\u001b[1m36/36\u001b[0m \u001b[32m━━━━━━━━━━━━━━━━━━━━\u001b[0m\u001b[37m\u001b[0m \u001b[1m0s\u001b[0m 11ms/step - accuracy: 0.8336 - loss: 0.4225 - val_accuracy: 0.8611 - val_loss: 0.3621 - learning_rate: 1.2500e-04\n",
      "Epoch 30/100\n",
      "\u001b[1m35/36\u001b[0m \u001b[32m━━━━━━━━━━━━━━━━━━━\u001b[0m\u001b[37m━\u001b[0m \u001b[1m0s\u001b[0m 10ms/step - accuracy: 0.8197 - loss: 0.4737\n",
      "Epoch 30: val_loss did not improve from 0.33534\n",
      "\u001b[1m36/36\u001b[0m \u001b[32m━━━━━━━━━━━━━━━━━━━━\u001b[0m\u001b[37m\u001b[0m \u001b[1m0s\u001b[0m 12ms/step - accuracy: 0.8198 - loss: 0.4729 - val_accuracy: 0.8542 - val_loss: 0.3611 - learning_rate: 1.2500e-04\n",
      "Epoch 31/100\n",
      "\u001b[1m31/36\u001b[0m \u001b[32m━━━━━━━━━━━━━━━━━\u001b[0m\u001b[37m━━━\u001b[0m \u001b[1m0s\u001b[0m 9ms/step - accuracy: 0.8386 - loss: 0.4209\n",
      "Epoch 31: val_loss did not improve from 0.33534\n",
      "\u001b[1m36/36\u001b[0m \u001b[32m━━━━━━━━━━━━━━━━━━━━\u001b[0m\u001b[37m\u001b[0m \u001b[1m0s\u001b[0m 11ms/step - accuracy: 0.8379 - loss: 0.4235 - val_accuracy: 0.8646 - val_loss: 0.3481 - learning_rate: 1.2500e-04\n",
      "Epoch 32/100\n",
      "\u001b[1m31/36\u001b[0m \u001b[32m━━━━━━━━━━━━━━━━━\u001b[0m\u001b[37m━━━\u001b[0m \u001b[1m0s\u001b[0m 9ms/step - accuracy: 0.8303 - loss: 0.4098\n",
      "Epoch 32: val_loss improved from 0.33534 to 0.33138, saving model to ../models/model_v1/sesa_model_v1.keras\n",
      "\u001b[1m36/36\u001b[0m \u001b[32m━━━━━━━━━━━━━━━━━━━━\u001b[0m\u001b[37m\u001b[0m \u001b[1m0s\u001b[0m 13ms/step - accuracy: 0.8309 - loss: 0.4108 - val_accuracy: 0.8750 - val_loss: 0.3314 - learning_rate: 6.2500e-05\n",
      "Epoch 33/100\n",
      "\u001b[1m31/36\u001b[0m \u001b[32m━━━━━━━━━━━━━━━━━\u001b[0m\u001b[37m━━━\u001b[0m \u001b[1m0s\u001b[0m 9ms/step - accuracy: 0.8513 - loss: 0.3921\n",
      "Epoch 33: val_loss improved from 0.33138 to 0.32077, saving model to ../models/model_v1/sesa_model_v1.keras\n",
      "\u001b[1m36/36\u001b[0m \u001b[32m━━━━━━━━━━━━━━━━━━━━\u001b[0m\u001b[37m\u001b[0m \u001b[1m0s\u001b[0m 13ms/step - accuracy: 0.8501 - loss: 0.3955 - val_accuracy: 0.8819 - val_loss: 0.3208 - learning_rate: 6.2500e-05\n",
      "Epoch 34/100\n",
      "\u001b[1m32/36\u001b[0m \u001b[32m━━━━━━━━━━━━━━━━━\u001b[0m\u001b[37m━━━\u001b[0m \u001b[1m0s\u001b[0m 9ms/step - accuracy: 0.8295 - loss: 0.4725\n",
      "Epoch 34: val_loss did not improve from 0.32077\n",
      "\u001b[1m36/36\u001b[0m \u001b[32m━━━━━━━━━━━━━━━━━━━━\u001b[0m\u001b[37m\u001b[0m \u001b[1m0s\u001b[0m 11ms/step - accuracy: 0.8302 - loss: 0.4676 - val_accuracy: 0.8889 - val_loss: 0.3281 - learning_rate: 6.2500e-05\n",
      "Epoch 35/100\n",
      "\u001b[1m31/36\u001b[0m \u001b[32m━━━━━━━━━━━━━━━━━\u001b[0m\u001b[37m━━━\u001b[0m \u001b[1m0s\u001b[0m 9ms/step - accuracy: 0.8429 - loss: 0.4133\n",
      "Epoch 35: val_loss did not improve from 0.32077\n",
      "\u001b[1m36/36\u001b[0m \u001b[32m━━━━━━━━━━━━━━━━━━━━\u001b[0m\u001b[37m\u001b[0m \u001b[1m0s\u001b[0m 11ms/step - accuracy: 0.8428 - loss: 0.4161 - val_accuracy: 0.8958 - val_loss: 0.3234 - learning_rate: 6.2500e-05\n",
      "Epoch 36/100\n",
      "\u001b[1m32/36\u001b[0m \u001b[32m━━━━━━━━━━━━━━━━━\u001b[0m\u001b[37m━━━\u001b[0m \u001b[1m0s\u001b[0m 8ms/step - accuracy: 0.8668 - loss: 0.3798\n",
      "Epoch 36: val_loss improved from 0.32077 to 0.31639, saving model to ../models/model_v1/sesa_model_v1.keras\n",
      "\u001b[1m36/36\u001b[0m \u001b[32m━━━━━━━━━━━━━━━━━━━━\u001b[0m\u001b[37m\u001b[0m \u001b[1m0s\u001b[0m 12ms/step - accuracy: 0.8641 - loss: 0.3837 - val_accuracy: 0.8993 - val_loss: 0.3164 - learning_rate: 6.2500e-05\n",
      "Epoch 37/100\n",
      "\u001b[1m34/36\u001b[0m \u001b[32m━━━━━━━━━━━━━━━━━━\u001b[0m\u001b[37m━━\u001b[0m \u001b[1m0s\u001b[0m 8ms/step - accuracy: 0.8849 - loss: 0.3586\n",
      "Epoch 37: val_loss improved from 0.31639 to 0.30609, saving model to ../models/model_v1/sesa_model_v1.keras\n",
      "\u001b[1m36/36\u001b[0m \u001b[32m━━━━━━━━━━━━━━━━━━━━\u001b[0m\u001b[37m\u001b[0m \u001b[1m0s\u001b[0m 12ms/step - accuracy: 0.8840 - loss: 0.3601 - val_accuracy: 0.8924 - val_loss: 0.3061 - learning_rate: 6.2500e-05\n",
      "Epoch 38/100\n",
      "\u001b[1m31/36\u001b[0m \u001b[32m━━━━━━━━━━━━━━━━━\u001b[0m\u001b[37m━━━\u001b[0m \u001b[1m0s\u001b[0m 9ms/step - accuracy: 0.8613 - loss: 0.3804\n",
      "Epoch 38: val_loss did not improve from 0.30609\n",
      "\u001b[1m36/36\u001b[0m \u001b[32m━━━━━━━━━━━━━━━━━━━━\u001b[0m\u001b[37m\u001b[0m \u001b[1m0s\u001b[0m 11ms/step - accuracy: 0.8598 - loss: 0.3827 - val_accuracy: 0.8403 - val_loss: 0.3652 - learning_rate: 6.2500e-05\n",
      "Epoch 39/100\n",
      "\u001b[1m33/36\u001b[0m \u001b[32m━━━━━━━━━━━━━━━━━━\u001b[0m\u001b[37m━━\u001b[0m \u001b[1m0s\u001b[0m 8ms/step - accuracy: 0.8625 - loss: 0.3969\n",
      "Epoch 39: val_loss did not improve from 0.30609\n",
      "\u001b[1m36/36\u001b[0m \u001b[32m━━━━━━━━━━━━━━━━━━━━\u001b[0m\u001b[37m\u001b[0m \u001b[1m0s\u001b[0m 11ms/step - accuracy: 0.8630 - loss: 0.3943 - val_accuracy: 0.8854 - val_loss: 0.3101 - learning_rate: 6.2500e-05\n",
      "Epoch 40/100\n",
      "\u001b[1m31/36\u001b[0m \u001b[32m━━━━━━━━━━━━━━━━━\u001b[0m\u001b[37m━━━\u001b[0m \u001b[1m0s\u001b[0m 11ms/step - accuracy: 0.8580 - loss: 0.3735\n",
      "Epoch 40: val_loss did not improve from 0.30609\n",
      "\u001b[1m36/36\u001b[0m \u001b[32m━━━━━━━━━━━━━━━━━━━━\u001b[0m\u001b[37m\u001b[0m \u001b[1m0s\u001b[0m 13ms/step - accuracy: 0.8586 - loss: 0.3737 - val_accuracy: 0.8785 - val_loss: 0.3112 - learning_rate: 6.2500e-05\n",
      "Epoch 41/100\n",
      "\u001b[1m31/36\u001b[0m \u001b[32m━━━━━━━━━━━━━━━━━\u001b[0m\u001b[37m━━━\u001b[0m \u001b[1m0s\u001b[0m 9ms/step - accuracy: 0.8380 - loss: 0.4236\n",
      "Epoch 41: val_loss did not improve from 0.30609\n",
      "\u001b[1m36/36\u001b[0m \u001b[32m━━━━━━━━━━━━━━━━━━━━\u001b[0m\u001b[37m\u001b[0m \u001b[1m0s\u001b[0m 11ms/step - accuracy: 0.8387 - loss: 0.4210 - val_accuracy: 0.8785 - val_loss: 0.3287 - learning_rate: 3.1250e-05\n",
      "Epoch 42/100\n",
      "\u001b[1m31/36\u001b[0m \u001b[32m━━━━━━━━━━━━━━━━━\u001b[0m\u001b[37m━━━\u001b[0m \u001b[1m0s\u001b[0m 9ms/step - accuracy: 0.8628 - loss: 0.4086\n",
      "Epoch 42: val_loss did not improve from 0.30609\n",
      "\u001b[1m36/36\u001b[0m \u001b[32m━━━━━━━━━━━━━━━━━━━━\u001b[0m\u001b[37m\u001b[0m \u001b[1m0s\u001b[0m 11ms/step - accuracy: 0.8609 - loss: 0.4130 - val_accuracy: 0.8715 - val_loss: 0.3351 - learning_rate: 3.1250e-05\n",
      "[INFO] Model saved to ../models/model_v1/sesa_model_v1.keras\n"
     ]
    }
   ],
   "source": [
    "model, history = train_model(X_train, y_train, model_path=\"../models/model_v1/sesa_model_v1.keras\")"
   ]
  },
  {
   "cell_type": "markdown",
   "id": "4dec897e",
   "metadata": {},
   "source": [
    "### 4. Evaluate Model"
   ]
  },
  {
   "cell_type": "code",
   "execution_count": 5,
   "id": "71952271",
   "metadata": {},
   "outputs": [
    {
     "name": "stdout",
     "output_type": "stream",
     "text": [
      "\u001b[1m4/4\u001b[0m \u001b[32m━━━━━━━━━━━━━━━━━━━━\u001b[0m\u001b[37m\u001b[0m \u001b[1m0s\u001b[0m 28ms/step\n",
      "              precision    recall  f1-score   support\n",
      "\n",
      "      Casual       0.96      0.79      0.87        29\n",
      "     Gunshot       0.90      0.86      0.88        21\n",
      "   Explosion       0.88      0.97      0.93        39\n",
      " Siren/Alarm       0.89      1.00      0.94        16\n",
      "\n",
      "    accuracy                           0.90       105\n",
      "   macro avg       0.91      0.91      0.90       105\n",
      "weighted avg       0.91      0.90      0.90       105\n",
      "\n"
     ]
    }
   ],
   "source": [
    "# Predict on test set\n",
    "y_pred_probs = model.predict(X_test)\n",
    "y_pred = np.argmax(y_pred_probs, axis=1)\n",
    "\n",
    "# Classification report\n",
    "print(classification_report(y_test, y_pred, target_names=[\"Casual\", \"Gunshot\", \"Explosion\", \"Siren/Alarm\"]))"
   ]
  },
  {
   "cell_type": "markdown",
   "id": "1860b3ac",
   "metadata": {},
   "source": [
    "### 5. Confusion Matrix"
   ]
  },
  {
   "cell_type": "code",
   "execution_count": 6,
   "id": "ea3eb18f",
   "metadata": {},
   "outputs": [
    {
     "data": {
      "image/png": "[encoded data removed]",
      "text/plain": [
       "<Figure size 600x500 with 2 Axes>"
      ]
     },
     "metadata": {},
     "output_type": "display_data"
    }
   ],
   "source": [
    "cm = confusion_matrix(y_test, y_pred)\n",
    "plt.figure(figsize=(6,5))\n",
    "sns.heatmap(cm, annot=True, fmt=\"d\", cmap=\"Blues\", xticklabels=[\"Casual\", \"Gunshot\", \"Explosion\", \"Siren/Alarm\"], yticklabels=[\"Casual\", \"Gunshot\", \"Explosion\", \"Siren/Alarm\"])\n",
    "plt.xlabel(\"Predicted\")\n",
    "plt.ylabel(\"Actual\")\n",
    "plt.title(\"Confusion Matrix\")\n",
    "plt.show()"
   ]
  },
  {
   "cell_type": "markdown",
   "id": "c3151334",
   "metadata": {},
   "source": [
    "### 6. Save Model"
   ]
  },
  {
   "cell_type": "code",
   "execution_count": 7,
   "id": "5975a9c2",
   "metadata": {},
   "outputs": [],
   "source": [
    "model.save(os.path.join(MODEL_DIR, MODEL_NAME))"
   ]
  },
  {
   "cell_type": "markdown",
   "id": "84480230",
   "metadata": {},
   "source": [
    "### 7. Test on a Single .wav File"
   ]
  },
  {
   "cell_type": "code",
   "execution_count": 8,
   "id": "70a5f18d",
   "metadata": {},
   "outputs": [
    {
     "name": "stdout",
     "output_type": "stream",
     "text": [
      "\u001b[1m1/1\u001b[0m \u001b[32m━━━━━━━━━━━━━━━━━━━━\u001b[0m\u001b[37m\u001b[0m \u001b[1m0s\u001b[0m 34ms/step\n",
      "Predicted: Siren/Alarm with confidence 1.00\n"
     ]
    }
   ],
   "source": [
    "\n",
    "result = predict_audio(\"../data/test/siren_050.wav\", model)\n",
    "if result is not None:\n",
    "\tprint(f\"Predicted: {result['label']} with confidence {result['confidence']:.2f}\")\n",
    "else:\n",
    "\tprint(\"Prediction failed: No result returned.\")"
   ]
  }
 ],
 "metadata": {
  "kernelspec": {
   "display_name": ".venv",
   "language": "python",
   "name": "python3"
  },
  "language_info": {
   "codemirror_mode": {
    "name": "ipython",
    "version": 3
   },
   "file_extension": ".py",
   "mimetype": "text/x-python",
   "name": "python",
   "nbconvert_exporter": "python",
   "pygments_lexer": "ipython3",
   "version": "3.10.17"
  }
 },
 "nbformat": 4,
 "nbformat_minor": 5
}
