{
 "cells": [
  {
   "cell_type": "markdown",
   "id": "348711e6",
   "metadata": {},
   "source": [
    "### 1. Setup & Imports"
   ]
  },
  {
   "cell_type": "code",
   "execution_count": 1,
   "id": "1170c4c8",
   "metadata": {},
   "outputs": [
    {
     "name": "stderr",
     "output_type": "stream",
     "text": [
      "2025-07-25 10:25:28.468412: I tensorflow/core/platform/cpu_feature_guard.cc:210] This TensorFlow binary is optimized to use available CPU instructions in performance-critical operations.\n",
      "To enable the following instructions: AVX2 FMA, in other operations, rebuild TensorFlow with the appropriate compiler flags.\n"
     ]
    }
   ],
   "source": [
    "import numpy as np\n",
    "import matplotlib.pyplot as plt\n",
    "import seaborn as sns\n",
    "import sys\n",
    "import os\n",
    "\n",
    "project_root = os.path.abspath(os.path.join('..'))\n",
    "if project_root not in sys.path:\n",
    "    sys.path.append(project_root)\n",
    "\n",
    "from sklearn.metrics import classification_report, confusion_matrix\n",
    "from src.preprocessing import load_data_from_directory\n",
    "from src.model import train_model, load_trained_model\n",
    "from src.prediction import predict_audio"
   ]
  },
  {
   "cell_type": "markdown",
   "id": "44c56275",
   "metadata": {},
   "source": [
    "### 2. Load and Preprocess Data"
   ]
  },
  {
   "cell_type": "code",
   "execution_count": 2,
   "id": "2cff6a57",
   "metadata": {},
   "outputs": [
    {
     "name": "stdout",
     "output_type": "stream",
     "text": [
      "[INFO] Loaded 1440 valid samples from '../data/train_v1' (augment=True)\n",
      "[INFO] Loaded 105 valid samples from '../data/test' (augment=False)\n",
      "Train: (1440, 1024), Labels: (array([0, 1, 2, 3]), array([420, 240, 510, 270]))\n",
      "Test: (105, 1024), Labels: (array([0, 1, 2, 3]), array([29, 21, 39, 16]))\n"
     ]
    }
   ],
   "source": [
    "X_train, y_train = load_data_from_directory(\"../data/train_v1\", augment=True)\n",
    "X_test, y_test = load_data_from_directory(\"../data/test\")\n",
    "print(f\"Train: {X_train.shape}, Labels: {np.unique(y_train, return_counts=True)}\")\n",
    "print(f\"Test: {X_test.shape}, Labels: {np.unique(y_test, return_counts=True)}\")"
   ]
  },
  {
   "cell_type": "markdown",
   "id": "95f135a3",
   "metadata": {},
   "source": [
    "### 3. Train the Model"
   ]
  },
  {
   "cell_type": "code",
   "execution_count": 3,
   "id": "902b752e",
   "metadata": {},
   "outputs": [
    {
     "name": "stdout",
     "output_type": "stream",
     "text": [
      "[INFO] Splitting data: train/test = 0.8/0.2\n",
      "[INFO] Building model...\n",
      "[INFO] Starting training...\n",
      "Epoch 1/100\n",
      "\u001b[1m35/36\u001b[0m \u001b[32m━━━━━━━━━━━━━━━━━━━\u001b[0m\u001b[37m━\u001b[0m \u001b[1m0s\u001b[0m 8ms/step - accuracy: 0.3000 - loss: 1.5118\n",
      "Epoch 1: val_loss improved from inf to 1.43532, saving model to models/yamnet_sesa_model.keras\n",
      "\u001b[1m36/36\u001b[0m \u001b[32m━━━━━━━━━━━━━━━━━━━━\u001b[0m\u001b[37m\u001b[0m \u001b[1m2s\u001b[0m 17ms/step - accuracy: 0.3021 - loss: 1.5075 - val_accuracy: 0.4062 - val_loss: 1.4353 - learning_rate: 0.0010\n",
      "Epoch 2/100\n",
      "\u001b[1m34/36\u001b[0m \u001b[32m━━━━━━━━━━━━━━━━━━\u001b[0m\u001b[37m━━\u001b[0m \u001b[1m0s\u001b[0m 8ms/step - accuracy: 0.3551 - loss: 1.3551\n",
      "Epoch 2: val_loss improved from 1.43532 to 1.38897, saving model to models/yamnet_sesa_model.keras\n",
      "\u001b[1m36/36\u001b[0m \u001b[32m━━━━━━━━━━━━━━━━━━━━\u001b[0m\u001b[37m\u001b[0m \u001b[1m0s\u001b[0m 12ms/step - accuracy: 0.3570 - loss: 1.3536 - val_accuracy: 0.5382 - val_loss: 1.3890 - learning_rate: 0.0010\n",
      "Epoch 3/100\n",
      "\u001b[1m36/36\u001b[0m \u001b[32m━━━━━━━━━━━━━━━━━━━━\u001b[0m\u001b[37m\u001b[0m \u001b[1m0s\u001b[0m 8ms/step - accuracy: 0.4539 - loss: 1.2791\n",
      "Epoch 3: val_loss improved from 1.38897 to 1.02911, saving model to models/yamnet_sesa_model.keras\n",
      "\u001b[1m36/36\u001b[0m \u001b[32m━━━━━━━━━━━━━━━━━━━━\u001b[0m\u001b[37m\u001b[0m \u001b[1m0s\u001b[0m 12ms/step - accuracy: 0.4546 - loss: 1.2773 - val_accuracy: 0.5521 - val_loss: 1.0291 - learning_rate: 0.0010\n",
      "Epoch 4/100\n",
      "\u001b[1m33/36\u001b[0m \u001b[32m━━━━━━━━━━━━━━━━━━\u001b[0m\u001b[37m━━\u001b[0m \u001b[1m0s\u001b[0m 8ms/step - accuracy: 0.5188 - loss: 1.1072\n",
      "Epoch 4: val_loss did not improve from 1.02911\n",
      "\u001b[1m36/36\u001b[0m \u001b[32m━━━━━━━━━━━━━━━━━━━━\u001b[0m\u001b[37m\u001b[0m \u001b[1m0s\u001b[0m 10ms/step - accuracy: 0.5193 - loss: 1.1062 - val_accuracy: 0.4792 - val_loss: 1.1181 - learning_rate: 0.0010\n",
      "Epoch 5/100\n",
      "\u001b[1m34/36\u001b[0m \u001b[32m━━━━━━━━━━━━━━━━━━\u001b[0m\u001b[37m━━\u001b[0m \u001b[1m0s\u001b[0m 8ms/step - accuracy: 0.5509 - loss: 1.0138\n",
      "Epoch 5: val_loss improved from 1.02911 to 0.93178, saving model to models/yamnet_sesa_model.keras\n",
      "\u001b[1m36/36\u001b[0m \u001b[32m━━━━━━━━━━━━━━━━━━━━\u001b[0m\u001b[37m\u001b[0m \u001b[1m0s\u001b[0m 12ms/step - accuracy: 0.5525 - loss: 1.0140 - val_accuracy: 0.5104 - val_loss: 0.9318 - learning_rate: 0.0010\n",
      "Epoch 6/100\n",
      "\u001b[1m35/36\u001b[0m \u001b[32m━━━━━━━━━━━━━━━━━━━\u001b[0m\u001b[37m━\u001b[0m \u001b[1m0s\u001b[0m 8ms/step - accuracy: 0.5866 - loss: 0.9714\n",
      "Epoch 6: val_loss did not improve from 0.93178\n",
      "\u001b[1m36/36\u001b[0m \u001b[32m━━━━━━━━━━━━━━━━━━━━\u001b[0m\u001b[37m\u001b[0m \u001b[1m0s\u001b[0m 10ms/step - accuracy: 0.5870 - loss: 0.9709 - val_accuracy: 0.5347 - val_loss: 0.9330 - learning_rate: 0.0010\n",
      "Epoch 7/100\n",
      "\u001b[1m36/36\u001b[0m \u001b[32m━━━━━━━━━━━━━━━━━━━━\u001b[0m\u001b[37m\u001b[0m \u001b[1m0s\u001b[0m 8ms/step - accuracy: 0.6144 - loss: 0.9387\n",
      "Epoch 7: val_loss improved from 0.93178 to 0.76620, saving model to models/yamnet_sesa_model.keras\n",
      "\u001b[1m36/36\u001b[0m \u001b[32m━━━━━━━━━━━━━━━━━━━━\u001b[0m\u001b[37m\u001b[0m \u001b[1m0s\u001b[0m 11ms/step - accuracy: 0.6146 - loss: 0.9384 - val_accuracy: 0.6285 - val_loss: 0.7662 - learning_rate: 0.0010\n",
      "Epoch 8/100\n",
      "\u001b[1m36/36\u001b[0m \u001b[32m━━━━━━━━━━━━━━━━━━━━\u001b[0m\u001b[37m\u001b[0m \u001b[1m0s\u001b[0m 8ms/step - accuracy: 0.6518 - loss: 0.8319\n",
      "Epoch 8: val_loss did not improve from 0.76620\n",
      "\u001b[1m36/36\u001b[0m \u001b[32m━━━━━━━━━━━━━━━━━━━━\u001b[0m\u001b[37m\u001b[0m \u001b[1m0s\u001b[0m 10ms/step - accuracy: 0.6516 - loss: 0.8322 - val_accuracy: 0.6146 - val_loss: 0.8612 - learning_rate: 0.0010\n",
      "Epoch 9/100\n",
      "\u001b[1m36/36\u001b[0m \u001b[32m━━━━━━━━━━━━━━━━━━━━\u001b[0m\u001b[37m\u001b[0m \u001b[1m0s\u001b[0m 8ms/step - accuracy: 0.6742 - loss: 0.8090\n",
      "Epoch 9: val_loss did not improve from 0.76620\n",
      "\u001b[1m36/36\u001b[0m \u001b[32m━━━━━━━━━━━━━━━━━━━━\u001b[0m\u001b[37m\u001b[0m \u001b[1m0s\u001b[0m 10ms/step - accuracy: 0.6741 - loss: 0.8095 - val_accuracy: 0.5625 - val_loss: 0.8507 - learning_rate: 0.0010\n",
      "Epoch 10/100\n",
      "\u001b[1m36/36\u001b[0m \u001b[32m━━━━━━━━━━━━━━━━━━━━\u001b[0m\u001b[37m\u001b[0m \u001b[1m0s\u001b[0m 8ms/step - accuracy: 0.7105 - loss: 0.7706\n",
      "Epoch 10: val_loss did not improve from 0.76620\n",
      "\u001b[1m36/36\u001b[0m \u001b[32m━━━━━━━━━━━━━━━━━━━━\u001b[0m\u001b[37m\u001b[0m \u001b[1m0s\u001b[0m 10ms/step - accuracy: 0.7104 - loss: 0.7704 - val_accuracy: 0.5243 - val_loss: 1.1341 - learning_rate: 0.0010\n",
      "Epoch 11/100\n",
      "\u001b[1m33/36\u001b[0m \u001b[32m━━━━━━━━━━━━━━━━━━\u001b[0m\u001b[37m━━\u001b[0m \u001b[1m0s\u001b[0m 9ms/step - accuracy: 0.7273 - loss: 0.7386\n",
      "Epoch 11: val_loss improved from 0.76620 to 0.63978, saving model to models/yamnet_sesa_model.keras\n",
      "\u001b[1m36/36\u001b[0m \u001b[32m━━━━━━━━━━━━━━━━━━━━\u001b[0m\u001b[37m\u001b[0m \u001b[1m1s\u001b[0m 15ms/step - accuracy: 0.7274 - loss: 0.7353 - val_accuracy: 0.6667 - val_loss: 0.6398 - learning_rate: 5.0000e-04\n",
      "Epoch 12/100\n",
      "\u001b[1m34/36\u001b[0m \u001b[32m━━━━━━━━━━━━━━━━━━\u001b[0m\u001b[37m━━\u001b[0m \u001b[1m0s\u001b[0m 8ms/step - accuracy: 0.7354 - loss: 0.7024\n",
      "Epoch 12: val_loss did not improve from 0.63978\n",
      "\u001b[1m36/36\u001b[0m \u001b[32m━━━━━━━━━━━━━━━━━━━━\u001b[0m\u001b[37m\u001b[0m \u001b[1m0s\u001b[0m 10ms/step - accuracy: 0.7359 - loss: 0.7015 - val_accuracy: 0.7222 - val_loss: 0.6438 - learning_rate: 5.0000e-04\n",
      "Epoch 13/100\n",
      "\u001b[1m35/36\u001b[0m \u001b[32m━━━━━━━━━━━━━━━━━━━\u001b[0m\u001b[37m━\u001b[0m \u001b[1m0s\u001b[0m 8ms/step - accuracy: 0.7286 - loss: 0.6897\n",
      "Epoch 13: val_loss improved from 0.63978 to 0.59910, saving model to models/yamnet_sesa_model.keras\n",
      "\u001b[1m36/36\u001b[0m \u001b[32m━━━━━━━━━━━━━━━━━━━━\u001b[0m\u001b[37m\u001b[0m \u001b[1m0s\u001b[0m 11ms/step - accuracy: 0.7281 - loss: 0.6892 - val_accuracy: 0.7639 - val_loss: 0.5991 - learning_rate: 5.0000e-04\n",
      "Epoch 14/100\n",
      "\u001b[1m35/36\u001b[0m \u001b[32m━━━━━━━━━━━━━━━━━━━\u001b[0m\u001b[37m━\u001b[0m \u001b[1m0s\u001b[0m 8ms/step - accuracy: 0.7321 - loss: 0.6973\n",
      "Epoch 14: val_loss did not improve from 0.59910\n",
      "\u001b[1m36/36\u001b[0m \u001b[32m━━━━━━━━━━━━━━━━━━━━\u001b[0m\u001b[37m\u001b[0m \u001b[1m0s\u001b[0m 10ms/step - accuracy: 0.7330 - loss: 0.6951 - val_accuracy: 0.7049 - val_loss: 0.6559 - learning_rate: 5.0000e-04\n",
      "Epoch 15/100\n",
      "\u001b[1m35/36\u001b[0m \u001b[32m━━━━━━━━━━━━━━━━━━━\u001b[0m\u001b[37m━\u001b[0m \u001b[1m0s\u001b[0m 8ms/step - accuracy: 0.7457 - loss: 0.7030\n",
      "Epoch 15: val_loss did not improve from 0.59910\n",
      "\u001b[1m36/36\u001b[0m \u001b[32m━━━━━━━━━━━━━━━━━━━━\u001b[0m\u001b[37m\u001b[0m \u001b[1m0s\u001b[0m 10ms/step - accuracy: 0.7468 - loss: 0.6990 - val_accuracy: 0.6771 - val_loss: 0.7974 - learning_rate: 5.0000e-04\n",
      "Epoch 16/100\n",
      "\u001b[1m34/36\u001b[0m \u001b[32m━━━━━━━━━━━━━━━━━━\u001b[0m\u001b[37m━━\u001b[0m \u001b[1m0s\u001b[0m 8ms/step - accuracy: 0.7200 - loss: 0.6635\n",
      "Epoch 16: val_loss improved from 0.59910 to 0.55871, saving model to models/yamnet_sesa_model.keras\n",
      "\u001b[1m36/36\u001b[0m \u001b[32m━━━━━━━━━━━━━━━━━━━━\u001b[0m\u001b[37m\u001b[0m \u001b[1m0s\u001b[0m 12ms/step - accuracy: 0.7223 - loss: 0.6610 - val_accuracy: 0.7431 - val_loss: 0.5587 - learning_rate: 5.0000e-04\n",
      "Epoch 17/100\n",
      "\u001b[1m34/36\u001b[0m \u001b[32m━━━━━━━━━━━━━━━━━━\u001b[0m\u001b[37m━━\u001b[0m \u001b[1m0s\u001b[0m 8ms/step - accuracy: 0.7805 - loss: 0.5557\n",
      "Epoch 17: val_loss improved from 0.55871 to 0.54520, saving model to models/yamnet_sesa_model.keras\n",
      "\u001b[1m36/36\u001b[0m \u001b[32m━━━━━━━━━━━━━━━━━━━━\u001b[0m\u001b[37m\u001b[0m \u001b[1m0s\u001b[0m 11ms/step - accuracy: 0.7801 - loss: 0.5568 - val_accuracy: 0.7361 - val_loss: 0.5452 - learning_rate: 5.0000e-04\n",
      "Epoch 18/100\n",
      "\u001b[1m36/36\u001b[0m \u001b[32m━━━━━━━━━━━━━━━━━━━━\u001b[0m\u001b[37m\u001b[0m \u001b[1m0s\u001b[0m 8ms/step - accuracy: 0.7854 - loss: 0.5902\n",
      "Epoch 18: val_loss improved from 0.54520 to 0.43357, saving model to models/yamnet_sesa_model.keras\n",
      "\u001b[1m36/36\u001b[0m \u001b[32m━━━━━━━━━━━━━━━━━━━━\u001b[0m\u001b[37m\u001b[0m \u001b[1m0s\u001b[0m 11ms/step - accuracy: 0.7853 - loss: 0.5896 - val_accuracy: 0.8576 - val_loss: 0.4336 - learning_rate: 5.0000e-04\n",
      "Epoch 19/100\n",
      "\u001b[1m35/36\u001b[0m \u001b[32m━━━━━━━━━━━━━━━━━━━\u001b[0m\u001b[37m━\u001b[0m \u001b[1m0s\u001b[0m 8ms/step - accuracy: 0.7875 - loss: 0.5522\n",
      "Epoch 19: val_loss did not improve from 0.43357\n",
      "\u001b[1m36/36\u001b[0m \u001b[32m━━━━━━━━━━━━━━━━━━━━\u001b[0m\u001b[37m\u001b[0m \u001b[1m0s\u001b[0m 10ms/step - accuracy: 0.7874 - loss: 0.5534 - val_accuracy: 0.7604 - val_loss: 0.5242 - learning_rate: 5.0000e-04\n",
      "Epoch 20/100\n",
      "\u001b[1m35/36\u001b[0m \u001b[32m━━━━━━━━━━━━━━━━━━━\u001b[0m\u001b[37m━\u001b[0m \u001b[1m0s\u001b[0m 8ms/step - accuracy: 0.7942 - loss: 0.5543\n",
      "Epoch 20: val_loss did not improve from 0.43357\n",
      "\u001b[1m36/36\u001b[0m \u001b[32m━━━━━━━━━━━━━━━━━━━━\u001b[0m\u001b[37m\u001b[0m \u001b[1m0s\u001b[0m 10ms/step - accuracy: 0.7939 - loss: 0.5546 - val_accuracy: 0.7812 - val_loss: 0.5773 - learning_rate: 5.0000e-04\n",
      "Epoch 21/100\n",
      "\u001b[1m35/36\u001b[0m \u001b[32m━━━━━━━━━━━━━━━━━━━\u001b[0m\u001b[37m━\u001b[0m \u001b[1m0s\u001b[0m 8ms/step - accuracy: 0.7872 - loss: 0.5459\n",
      "Epoch 21: val_loss did not improve from 0.43357\n",
      "\u001b[1m36/36\u001b[0m \u001b[32m━━━━━━━━━━━━━━━━━━━━\u001b[0m\u001b[37m\u001b[0m \u001b[1m0s\u001b[0m 10ms/step - accuracy: 0.7879 - loss: 0.5448 - val_accuracy: 0.7708 - val_loss: 0.4953 - learning_rate: 5.0000e-04\n",
      "Epoch 22/100\n",
      "\u001b[1m35/36\u001b[0m \u001b[32m━━━━━━━━━━━━━━━━━━━\u001b[0m\u001b[37m━\u001b[0m \u001b[1m0s\u001b[0m 8ms/step - accuracy: 0.7947 - loss: 0.5469\n",
      "Epoch 22: val_loss improved from 0.43357 to 0.42205, saving model to models/yamnet_sesa_model.keras\n",
      "\u001b[1m36/36\u001b[0m \u001b[32m━━━━━━━━━━━━━━━━━━━━\u001b[0m\u001b[37m\u001b[0m \u001b[1m0s\u001b[0m 11ms/step - accuracy: 0.7955 - loss: 0.5451 - val_accuracy: 0.8403 - val_loss: 0.4220 - learning_rate: 2.5000e-04\n",
      "Epoch 23/100\n",
      "\u001b[1m34/36\u001b[0m \u001b[32m━━━━━━━━━━━━━━━━━━\u001b[0m\u001b[37m━━\u001b[0m \u001b[1m0s\u001b[0m 8ms/step - accuracy: 0.8135 - loss: 0.5113\n",
      "Epoch 23: val_loss did not improve from 0.42205\n",
      "\u001b[1m36/36\u001b[0m \u001b[32m━━━━━━━━━━━━━━━━━━━━\u001b[0m\u001b[37m\u001b[0m \u001b[1m0s\u001b[0m 10ms/step - accuracy: 0.8138 - loss: 0.5105 - val_accuracy: 0.7882 - val_loss: 0.4779 - learning_rate: 2.5000e-04\n",
      "Epoch 24/100\n",
      "\u001b[1m35/36\u001b[0m \u001b[32m━━━━━━━━━━━━━━━━━━━\u001b[0m\u001b[37m━\u001b[0m \u001b[1m0s\u001b[0m 8ms/step - accuracy: 0.8153 - loss: 0.4715\n",
      "Epoch 24: val_loss improved from 0.42205 to 0.41223, saving model to models/yamnet_sesa_model.keras\n",
      "\u001b[1m36/36\u001b[0m \u001b[32m━━━━━━━━━━━━━━━━━━━━\u001b[0m\u001b[37m\u001b[0m \u001b[1m0s\u001b[0m 11ms/step - accuracy: 0.8153 - loss: 0.4727 - val_accuracy: 0.8576 - val_loss: 0.4122 - learning_rate: 2.5000e-04\n",
      "Epoch 25/100\n",
      "\u001b[1m35/36\u001b[0m \u001b[32m━━━━━━━━━━━━━━━━━━━\u001b[0m\u001b[37m━\u001b[0m \u001b[1m0s\u001b[0m 8ms/step - accuracy: 0.8312 - loss: 0.4666\n",
      "Epoch 25: val_loss did not improve from 0.41223\n",
      "\u001b[1m36/36\u001b[0m \u001b[32m━━━━━━━━━━━━━━━━━━━━\u001b[0m\u001b[37m\u001b[0m \u001b[1m0s\u001b[0m 10ms/step - accuracy: 0.8302 - loss: 0.4676 - val_accuracy: 0.8056 - val_loss: 0.4295 - learning_rate: 2.5000e-04\n",
      "Epoch 26/100\n",
      "\u001b[1m35/36\u001b[0m \u001b[32m━━━━━━━━━━━━━━━━━━━\u001b[0m\u001b[37m━\u001b[0m \u001b[1m0s\u001b[0m 11ms/step - accuracy: 0.8300 - loss: 0.4482\n",
      "Epoch 26: val_loss did not improve from 0.41223\n",
      "\u001b[1m36/36\u001b[0m \u001b[32m━━━━━━━━━━━━━━━━━━━━\u001b[0m\u001b[37m\u001b[0m \u001b[1m0s\u001b[0m 13ms/step - accuracy: 0.8293 - loss: 0.4495 - val_accuracy: 0.8021 - val_loss: 0.4454 - learning_rate: 2.5000e-04\n",
      "Epoch 27/100\n",
      "\u001b[1m34/36\u001b[0m \u001b[32m━━━━━━━━━━━━━━━━━━\u001b[0m\u001b[37m━━\u001b[0m \u001b[1m0s\u001b[0m 8ms/step - accuracy: 0.8386 - loss: 0.4255\n",
      "Epoch 27: val_loss did not improve from 0.41223\n",
      "\u001b[1m36/36\u001b[0m \u001b[32m━━━━━━━━━━━━━━━━━━━━\u001b[0m\u001b[37m\u001b[0m \u001b[1m0s\u001b[0m 10ms/step - accuracy: 0.8380 - loss: 0.4283 - val_accuracy: 0.8542 - val_loss: 0.4127 - learning_rate: 2.5000e-04\n",
      "Epoch 28/100\n",
      "\u001b[1m36/36\u001b[0m \u001b[32m━━━━━━━━━━━━━━━━━━━━\u001b[0m\u001b[37m\u001b[0m \u001b[1m0s\u001b[0m 8ms/step - accuracy: 0.8306 - loss: 0.4767\n",
      "Epoch 28: val_loss improved from 0.41223 to 0.37096, saving model to models/yamnet_sesa_model.keras\n",
      "\u001b[1m36/36\u001b[0m \u001b[32m━━━━━━━━━━━━━━━━━━━━\u001b[0m\u001b[37m\u001b[0m \u001b[1m0s\u001b[0m 12ms/step - accuracy: 0.8305 - loss: 0.4772 - val_accuracy: 0.8438 - val_loss: 0.3710 - learning_rate: 1.2500e-04\n",
      "Epoch 29/100\n",
      "\u001b[1m36/36\u001b[0m \u001b[32m━━━━━━━━━━━━━━━━━━━━\u001b[0m\u001b[37m\u001b[0m \u001b[1m0s\u001b[0m 8ms/step - accuracy: 0.8478 - loss: 0.4180\n",
      "Epoch 29: val_loss improved from 0.37096 to 0.36857, saving model to models/yamnet_sesa_model.keras\n",
      "\u001b[1m36/36\u001b[0m \u001b[32m━━━━━━━━━━━━━━━━━━━━\u001b[0m\u001b[37m\u001b[0m \u001b[1m0s\u001b[0m 11ms/step - accuracy: 0.8477 - loss: 0.4180 - val_accuracy: 0.8507 - val_loss: 0.3686 - learning_rate: 1.2500e-04\n",
      "Epoch 30/100\n",
      "\u001b[1m36/36\u001b[0m \u001b[32m━━━━━━━━━━━━━━━━━━━━\u001b[0m\u001b[37m\u001b[0m \u001b[1m0s\u001b[0m 8ms/step - accuracy: 0.8312 - loss: 0.4333\n",
      "Epoch 30: val_loss improved from 0.36857 to 0.36188, saving model to models/yamnet_sesa_model.keras\n",
      "\u001b[1m36/36\u001b[0m \u001b[32m━━━━━━━━━━━━━━━━━━━━\u001b[0m\u001b[37m\u001b[0m \u001b[1m0s\u001b[0m 11ms/step - accuracy: 0.8312 - loss: 0.4335 - val_accuracy: 0.8854 - val_loss: 0.3619 - learning_rate: 1.2500e-04\n",
      "Epoch 31/100\n",
      "\u001b[1m33/36\u001b[0m \u001b[32m━━━━━━━━━━━━━━━━━━\u001b[0m\u001b[37m━━\u001b[0m \u001b[1m0s\u001b[0m 8ms/step - accuracy: 0.8421 - loss: 0.4612\n",
      "Epoch 31: val_loss improved from 0.36188 to 0.34684, saving model to models/yamnet_sesa_model.keras\n",
      "\u001b[1m36/36\u001b[0m \u001b[32m━━━━━━━━━━━━━━━━━━━━\u001b[0m\u001b[37m\u001b[0m \u001b[1m0s\u001b[0m 12ms/step - accuracy: 0.8423 - loss: 0.4586 - val_accuracy: 0.8715 - val_loss: 0.3468 - learning_rate: 1.2500e-04\n",
      "Epoch 32/100\n",
      "\u001b[1m35/36\u001b[0m \u001b[32m━━━━━━━━━━━━━━━━━━━\u001b[0m\u001b[37m━\u001b[0m \u001b[1m0s\u001b[0m 8ms/step - accuracy: 0.8286 - loss: 0.4290\n",
      "Epoch 32: val_loss did not improve from 0.34684\n",
      "\u001b[1m36/36\u001b[0m \u001b[32m━━━━━━━━━━━━━━━━━━━━\u001b[0m\u001b[37m\u001b[0m \u001b[1m0s\u001b[0m 10ms/step - accuracy: 0.8289 - loss: 0.4288 - val_accuracy: 0.8507 - val_loss: 0.3659 - learning_rate: 1.2500e-04\n",
      "Epoch 33/100\n",
      "\u001b[1m36/36\u001b[0m \u001b[32m━━━━━━━━━━━━━━━━━━━━\u001b[0m\u001b[37m\u001b[0m \u001b[1m0s\u001b[0m 8ms/step - accuracy: 0.8409 - loss: 0.4309\n",
      "Epoch 33: val_loss did not improve from 0.34684\n",
      "\u001b[1m36/36\u001b[0m \u001b[32m━━━━━━━━━━━━━━━━━━━━\u001b[0m\u001b[37m\u001b[0m \u001b[1m0s\u001b[0m 10ms/step - accuracy: 0.8412 - loss: 0.4301 - val_accuracy: 0.8576 - val_loss: 0.3724 - learning_rate: 1.2500e-04\n",
      "Epoch 34/100\n",
      "\u001b[1m36/36\u001b[0m \u001b[32m━━━━━━━━━━━━━━━━━━━━\u001b[0m\u001b[37m\u001b[0m \u001b[1m0s\u001b[0m 8ms/step - accuracy: 0.8596 - loss: 0.4025\n",
      "Epoch 34: val_loss did not improve from 0.34684\n",
      "\u001b[1m36/36\u001b[0m \u001b[32m━━━━━━━━━━━━━━━━━━━━\u001b[0m\u001b[37m\u001b[0m \u001b[1m0s\u001b[0m 9ms/step - accuracy: 0.8598 - loss: 0.4024 - val_accuracy: 0.8785 - val_loss: 0.3586 - learning_rate: 1.2500e-04\n",
      "Epoch 35/100\n",
      "\u001b[1m36/36\u001b[0m \u001b[32m━━━━━━━━━━━━━━━━━━━━\u001b[0m\u001b[37m\u001b[0m \u001b[1m0s\u001b[0m 8ms/step - accuracy: 0.8627 - loss: 0.4125\n",
      "Epoch 35: val_loss did not improve from 0.34684\n",
      "\u001b[1m36/36\u001b[0m \u001b[32m━━━━━━━━━━━━━━━━━━━━\u001b[0m\u001b[37m\u001b[0m \u001b[1m0s\u001b[0m 10ms/step - accuracy: 0.8622 - loss: 0.4134 - val_accuracy: 0.9028 - val_loss: 0.3509 - learning_rate: 6.2500e-05\n",
      "Epoch 36/100\n",
      "\u001b[1m35/36\u001b[0m \u001b[32m━━━━━━━━━━━━━━━━━━━\u001b[0m\u001b[37m━\u001b[0m \u001b[1m0s\u001b[0m 8ms/step - accuracy: 0.8269 - loss: 0.4350\n",
      "Epoch 36: val_loss did not improve from 0.34684\n",
      "\u001b[1m36/36\u001b[0m \u001b[32m━━━━━━━━━━━━━━━━━━━━\u001b[0m\u001b[37m\u001b[0m \u001b[1m0s\u001b[0m 10ms/step - accuracy: 0.8274 - loss: 0.4348 - val_accuracy: 0.8611 - val_loss: 0.3686 - learning_rate: 6.2500e-05\n",
      "[INFO] Model saved to models/yamnet_sesa_model.keras\n"
     ]
    }
   ],
   "source": [
    "model, history = train_model(X_train, y_train)"
   ]
  },
  {
   "cell_type": "markdown",
   "id": "4dec897e",
   "metadata": {},
   "source": [
    "### 4. Evaluate Model"
   ]
  },
  {
   "cell_type": "code",
   "execution_count": 4,
   "id": "71952271",
   "metadata": {},
   "outputs": [
    {
     "name": "stdout",
     "output_type": "stream",
     "text": [
      "\u001b[1m4/4\u001b[0m \u001b[32m━━━━━━━━━━━━━━━━━━━━\u001b[0m\u001b[37m\u001b[0m \u001b[1m0s\u001b[0m 26ms/step\n",
      "              precision    recall  f1-score   support\n",
      "\n",
      "      Casual       0.85      0.76      0.80        29\n",
      "     Gunshot       0.84      0.76      0.80        21\n",
      "   Explosion       0.90      0.97      0.94        39\n",
      " Siren/Alarm       0.89      1.00      0.94        16\n",
      "\n",
      "    accuracy                           0.88       105\n",
      "   macro avg       0.87      0.87      0.87       105\n",
      "weighted avg       0.87      0.88      0.87       105\n",
      "\n"
     ]
    }
   ],
   "source": [
    "# Predict on test set\n",
    "y_pred_probs = model.predict(X_test)\n",
    "y_pred = np.argmax(y_pred_probs, axis=1)\n",
    "\n",
    "# Classification report\n",
    "print(classification_report(y_test, y_pred, target_names=[\"Casual\", \"Gunshot\", \"Explosion\", \"Siren/Alarm\"]))"
   ]
  },
  {
   "cell_type": "markdown",
   "id": "1860b3ac",
   "metadata": {},
   "source": [
    "### 5. Confusion Matrix"
   ]
  },
  {
   "cell_type": "code",
   "execution_count": 5,
   "id": "ea3eb18f",
   "metadata": {},
   "outputs": [
    {
     "data": {
      "image/png": "[encoded data removed]",
      "text/plain": [
       "<Figure size 600x500 with 2 Axes>"
      ]
     },
     "metadata": {},
     "output_type": "display_data"
    }
   ],
   "source": [
    "cm = confusion_matrix(y_test, y_pred)\n",
    "plt.figure(figsize=(6,5))\n",
    "sns.heatmap(cm, annot=True, fmt=\"d\", cmap=\"Blues\", xticklabels=[\"Casual\", \"Gunshot\", \"Explosion\", \"Siren/Alarm\"], yticklabels=[\"Casual\", \"Gunshot\", \"Explosion\", \"Siren/Alarm\"])\n",
    "plt.xlabel(\"Predicted\")\n",
    "plt.ylabel(\"Actual\")\n",
    "plt.title(\"Confusion Matrix\")\n",
    "plt.show()"
   ]
  },
  {
   "cell_type": "markdown",
   "id": "c3151334",
   "metadata": {},
   "source": [
    "### 6. Save Model"
   ]
  },
  {
   "cell_type": "code",
   "execution_count": null,
   "id": "5975a9c2",
   "metadata": {},
   "outputs": [],
   "source": [
    "model.save(\"../models_sesa_model.keras\")"
   ]
  },
  {
   "cell_type": "markdown",
   "id": "84480230",
   "metadata": {},
   "source": [
    "### 7. Test on a Single .wav File"
   ]
  },
  {
   "cell_type": "code",
   "execution_count": 7,
   "id": "70a5f18d",
   "metadata": {},
   "outputs": [
    {
     "name": "stdout",
     "output_type": "stream",
     "text": [
      "\u001b[1m1/1\u001b[0m \u001b[32m━━━━━━━━━━━━━━━━━━━━\u001b[0m\u001b[37m\u001b[0m \u001b[1m0s\u001b[0m 30ms/step\n",
      "Predicted: Siren/Alarm with confidence 1.00\n"
     ]
    }
   ],
   "source": [
    "\n",
    "result = predict_audio(\"../data/test/siren_050.wav\", model)\n",
    "if result is not None:\n",
    "\tprint(f\"Predicted: {result['label']} with confidence {result['confidence']:.2f}\")\n",
    "else:\n",
    "\tprint(\"Prediction failed: No result returned.\")"
   ]
  }
 ],
 "metadata": {
  "kernelspec": {
   "display_name": ".venv",
   "language": "python",
   "name": "python3"
  },
  "language_info": {
   "codemirror_mode": {
    "name": "ipython",
    "version": 3
   },
   "file_extension": ".py",
   "mimetype": "text/x-python",
   "name": "python",
   "nbconvert_exporter": "python",
   "pygments_lexer": "ipython3",
   "version": "3.10.17"
  }
 },
 "nbformat": 4,
 "nbformat_minor": 5
}
