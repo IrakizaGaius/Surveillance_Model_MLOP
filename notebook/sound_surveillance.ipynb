{
 "cells": [
  {
   "cell_type": "markdown",
   "id": "348711e6",
   "metadata": {},
   "source": [
    "### 1. Setup & Imports"
   ]
  },
  {
   "cell_type": "code",
   "execution_count": 1,
   "id": "1170c4c8",
   "metadata": {},
   "outputs": [
    {
     "name": "stderr",
     "output_type": "stream",
     "text": [
      "2025-07-24 14:19:37.921790: I tensorflow/core/platform/cpu_feature_guard.cc:210] This TensorFlow binary is optimized to use available CPU instructions in performance-critical operations.\n",
      "To enable the following instructions: AVX2 FMA, in other operations, rebuild TensorFlow with the appropriate compiler flags.\n"
     ]
    }
   ],
   "source": [
    "import numpy as np\n",
    "import matplotlib.pyplot as plt\n",
    "import seaborn as sns\n",
    "import sys\n",
    "import os\n",
    "\n",
    "project_root = os.path.abspath(os.path.join('..'))\n",
    "if project_root not in sys.path:\n",
    "    sys.path.append(project_root)\n",
    "\n",
    "from sklearn.metrics import classification_report, confusion_matrix\n",
    "from src.preprocessing import load_data_from_directory\n",
    "from src.model import train_model, load_trained_model\n",
    "from src.prediction import predict_audio"
   ]
  },
  {
   "cell_type": "markdown",
   "id": "44c56275",
   "metadata": {},
   "source": [
    "### 2. Load and Preprocess Data"
   ]
  },
  {
   "cell_type": "code",
   "execution_count": null,
   "id": "2cff6a57",
   "metadata": {},
   "outputs": [
    {
     "name": "stdout",
     "output_type": "stream",
     "text": [
      "[INFO] Loaded 1440 valid samples from '../data/train' (augment=True)\n",
      "[INFO] Loaded 105 valid samples from '../data/test' (augment=False)\n",
      "Train: (1440, 1024), Labels: (array([0, 1, 2, 3]), array([420, 240, 510, 270]))\n",
      "Test: (105, 1024), Labels: (array([0, 1, 2, 3]), array([29, 21, 39, 16]))\n"
     ]
    }
   ],
   "source": [
    "X_train, y_train = load_data_from_directory(\"../data/train\", augment=True)\n",
    "X_test, y_test = load_data_from_directory(\"../data/test\")\n",
    "print(f\"Train: {X_train.shape}, Labels: {np.unique(y_train, return_counts=True)}\")\n",
    "print(f\"Test: {X_test.shape}, Labels: {np.unique(y_test, return_counts=True)}\")"
   ]
  },
  {
   "cell_type": "markdown",
   "id": "95f135a3",
   "metadata": {},
   "source": [
    "### 3. Train the Model"
   ]
  },
  {
   "cell_type": "code",
   "execution_count": 3,
   "id": "902b752e",
   "metadata": {},
   "outputs": [
    {
     "name": "stdout",
     "output_type": "stream",
     "text": [
      "[INFO] Splitting data: train/test = 0.8/0.2\n",
      "[INFO] Building model...\n",
      "[INFO] Starting training...\n",
      "Epoch 1/100\n",
      "\u001b[1m34/36\u001b[0m \u001b[32m━━━━━━━━━━━━━━━━━━\u001b[0m\u001b[37m━━\u001b[0m \u001b[1m0s\u001b[0m 8ms/step - accuracy: 0.3319 - loss: 1.4154\n",
      "Epoch 1: val_loss improved from inf to 1.30909, saving model to models/yamnet_sesa_model.keras\n",
      "\u001b[1m36/36\u001b[0m \u001b[32m━━━━━━━━━━━━━━━━━━━━\u001b[0m\u001b[37m\u001b[0m \u001b[1m2s\u001b[0m 17ms/step - accuracy: 0.3331 - loss: 1.4136 - val_accuracy: 0.4444 - val_loss: 1.3091 - learning_rate: 0.0010\n",
      "Epoch 2/100\n",
      "\u001b[1m32/36\u001b[0m \u001b[32m━━━━━━━━━━━━━━━━━\u001b[0m\u001b[37m━━━\u001b[0m \u001b[1m0s\u001b[0m 9ms/step - accuracy: 0.4008 - loss: 1.2957\n",
      "Epoch 2: val_loss improved from 1.30909 to 1.15839, saving model to models/yamnet_sesa_model.keras\n",
      "\u001b[1m36/36\u001b[0m \u001b[32m━━━━━━━━━━━━━━━━━━━━\u001b[0m\u001b[37m\u001b[0m \u001b[1m0s\u001b[0m 12ms/step - accuracy: 0.4039 - loss: 1.2914 - val_accuracy: 0.4722 - val_loss: 1.1584 - learning_rate: 0.0010\n",
      "Epoch 3/100\n",
      "\u001b[1m34/36\u001b[0m \u001b[32m━━━━━━━━━━━━━━━━━━\u001b[0m\u001b[37m━━\u001b[0m \u001b[1m0s\u001b[0m 8ms/step - accuracy: 0.4796 - loss: 1.1792\n",
      "Epoch 3: val_loss improved from 1.15839 to 1.05385, saving model to models/yamnet_sesa_model.keras\n",
      "\u001b[1m36/36\u001b[0m \u001b[32m━━━━━━━━━━━━━━━━━━━━\u001b[0m\u001b[37m\u001b[0m \u001b[1m0s\u001b[0m 12ms/step - accuracy: 0.4812 - loss: 1.1769 - val_accuracy: 0.4410 - val_loss: 1.0538 - learning_rate: 0.0010\n",
      "Epoch 4/100\n",
      "\u001b[1m35/36\u001b[0m \u001b[32m━━━━━━━━━━━━━━━━━━━\u001b[0m\u001b[37m━\u001b[0m \u001b[1m0s\u001b[0m 8ms/step - accuracy: 0.5319 - loss: 1.0704\n",
      "Epoch 4: val_loss improved from 1.05385 to 0.91745, saving model to models/yamnet_sesa_model.keras\n",
      "\u001b[1m36/36\u001b[0m \u001b[32m━━━━━━━━━━━━━━━━━━━━\u001b[0m\u001b[37m\u001b[0m \u001b[1m0s\u001b[0m 12ms/step - accuracy: 0.5313 - loss: 1.0702 - val_accuracy: 0.6354 - val_loss: 0.9175 - learning_rate: 0.0010\n",
      "Epoch 5/100\n",
      "\u001b[1m36/36\u001b[0m \u001b[32m━━━━━━━━━━━━━━━━━━━━\u001b[0m\u001b[37m\u001b[0m \u001b[1m0s\u001b[0m 8ms/step - accuracy: 0.5631 - loss: 0.9841\n",
      "Epoch 5: val_loss did not improve from 0.91745\n",
      "\u001b[1m36/36\u001b[0m \u001b[32m━━━━━━━━━━━━━━━━━━━━\u001b[0m\u001b[37m\u001b[0m \u001b[1m0s\u001b[0m 10ms/step - accuracy: 0.5629 - loss: 0.9846 - val_accuracy: 0.5729 - val_loss: 0.9214 - learning_rate: 0.0010\n",
      "Epoch 6/100\n",
      "\u001b[1m36/36\u001b[0m \u001b[32m━━━━━━━━━━━━━━━━━━━━\u001b[0m\u001b[37m\u001b[0m \u001b[1m0s\u001b[0m 8ms/step - accuracy: 0.5572 - loss: 0.9937\n",
      "Epoch 6: val_loss improved from 0.91745 to 0.84541, saving model to models/yamnet_sesa_model.keras\n",
      "\u001b[1m36/36\u001b[0m \u001b[32m━━━━━━━━━━━━━━━━━━━━\u001b[0m\u001b[37m\u001b[0m \u001b[1m0s\u001b[0m 11ms/step - accuracy: 0.5579 - loss: 0.9930 - val_accuracy: 0.5729 - val_loss: 0.8454 - learning_rate: 0.0010\n",
      "Epoch 7/100\n",
      "\u001b[1m35/36\u001b[0m \u001b[32m━━━━━━━━━━━━━━━━━━━\u001b[0m\u001b[37m━\u001b[0m \u001b[1m0s\u001b[0m 8ms/step - accuracy: 0.6870 - loss: 0.8686\n",
      "Epoch 7: val_loss did not improve from 0.84541\n",
      "\u001b[1m36/36\u001b[0m \u001b[32m━━━━━━━━━━━━━━━━━━━━\u001b[0m\u001b[37m\u001b[0m \u001b[1m0s\u001b[0m 10ms/step - accuracy: 0.6856 - loss: 0.8695 - val_accuracy: 0.4931 - val_loss: 1.0131 - learning_rate: 0.0010\n",
      "Epoch 8/100\n",
      "\u001b[1m36/36\u001b[0m \u001b[32m━━━━━━━━━━━━━━━━━━━━\u001b[0m\u001b[37m\u001b[0m \u001b[1m0s\u001b[0m 8ms/step - accuracy: 0.6616 - loss: 0.8067\n",
      "Epoch 8: val_loss improved from 0.84541 to 0.81253, saving model to models/yamnet_sesa_model.keras\n",
      "\u001b[1m36/36\u001b[0m \u001b[32m━━━━━━━━━━━━━━━━━━━━\u001b[0m\u001b[37m\u001b[0m \u001b[1m0s\u001b[0m 11ms/step - accuracy: 0.6613 - loss: 0.8072 - val_accuracy: 0.6354 - val_loss: 0.8125 - learning_rate: 0.0010\n",
      "Epoch 9/100\n",
      "\u001b[1m36/36\u001b[0m \u001b[32m━━━━━━━━━━━━━━━━━━━━\u001b[0m\u001b[37m\u001b[0m \u001b[1m0s\u001b[0m 8ms/step - accuracy: 0.7098 - loss: 0.7648\n",
      "Epoch 9: val_loss did not improve from 0.81253\n",
      "\u001b[1m36/36\u001b[0m \u001b[32m━━━━━━━━━━━━━━━━━━━━\u001b[0m\u001b[37m\u001b[0m \u001b[1m0s\u001b[0m 10ms/step - accuracy: 0.7094 - loss: 0.7659 - val_accuracy: 0.5451 - val_loss: 0.8945 - learning_rate: 0.0010\n",
      "Epoch 10/100\n",
      "\u001b[1m36/36\u001b[0m \u001b[32m━━━━━━━━━━━━━━━━━━━━\u001b[0m\u001b[37m\u001b[0m \u001b[1m0s\u001b[0m 8ms/step - accuracy: 0.7000 - loss: 0.7579\n",
      "Epoch 10: val_loss did not improve from 0.81253\n",
      "\u001b[1m36/36\u001b[0m \u001b[32m━━━━━━━━━━━━━━━━━━━━\u001b[0m\u001b[37m\u001b[0m \u001b[1m0s\u001b[0m 10ms/step - accuracy: 0.7001 - loss: 0.7580 - val_accuracy: 0.7049 - val_loss: 0.8311 - learning_rate: 0.0010\n",
      "Epoch 11/100\n",
      "\u001b[1m36/36\u001b[0m \u001b[32m━━━━━━━━━━━━━━━━━━━━\u001b[0m\u001b[37m\u001b[0m \u001b[1m0s\u001b[0m 8ms/step - accuracy: 0.6983 - loss: 0.8065\n",
      "Epoch 11: val_loss improved from 0.81253 to 0.55257, saving model to models/yamnet_sesa_model.keras\n",
      "\u001b[1m36/36\u001b[0m \u001b[32m━━━━━━━━━━━━━━━━━━━━\u001b[0m\u001b[37m\u001b[0m \u001b[1m0s\u001b[0m 11ms/step - accuracy: 0.6983 - loss: 0.8061 - val_accuracy: 0.8090 - val_loss: 0.5526 - learning_rate: 0.0010\n",
      "Epoch 12/100\n",
      "\u001b[1m32/36\u001b[0m \u001b[32m━━━━━━━━━━━━━━━━━\u001b[0m\u001b[37m━━━\u001b[0m \u001b[1m0s\u001b[0m 9ms/step - accuracy: 0.7054 - loss: 0.7450\n",
      "Epoch 12: val_loss did not improve from 0.55257\n",
      "\u001b[1m36/36\u001b[0m \u001b[32m━━━━━━━━━━━━━━━━━━━━\u001b[0m\u001b[37m\u001b[0m \u001b[1m0s\u001b[0m 11ms/step - accuracy: 0.7065 - loss: 0.7416 - val_accuracy: 0.6875 - val_loss: 0.7565 - learning_rate: 0.0010\n",
      "Epoch 13/100\n",
      "\u001b[1m34/36\u001b[0m \u001b[32m━━━━━━━━━━━━━━━━━━\u001b[0m\u001b[37m━━\u001b[0m \u001b[1m0s\u001b[0m 8ms/step - accuracy: 0.6992 - loss: 0.7183\n",
      "Epoch 13: val_loss did not improve from 0.55257\n",
      "\u001b[1m36/36\u001b[0m \u001b[32m━━━━━━━━━━━━━━━━━━━━\u001b[0m\u001b[37m\u001b[0m \u001b[1m0s\u001b[0m 10ms/step - accuracy: 0.7009 - loss: 0.7168 - val_accuracy: 0.7014 - val_loss: 0.7084 - learning_rate: 0.0010\n",
      "Epoch 14/100\n",
      "\u001b[1m35/36\u001b[0m \u001b[32m━━━━━━━━━━━━━━━━━━━\u001b[0m\u001b[37m━\u001b[0m \u001b[1m0s\u001b[0m 8ms/step - accuracy: 0.7445 - loss: 0.6864\n",
      "Epoch 14: val_loss did not improve from 0.55257\n",
      "\u001b[1m36/36\u001b[0m \u001b[32m━━━━━━━━━━━━━━━━━━━━\u001b[0m\u001b[37m\u001b[0m \u001b[1m0s\u001b[0m 10ms/step - accuracy: 0.7445 - loss: 0.6852 - val_accuracy: 0.7396 - val_loss: 0.9225 - learning_rate: 0.0010\n",
      "Epoch 15/100\n",
      "\u001b[1m35/36\u001b[0m \u001b[32m━━━━━━━━━━━━━━━━━━━\u001b[0m\u001b[37m━\u001b[0m \u001b[1m0s\u001b[0m 8ms/step - accuracy: 0.7080 - loss: 0.7317\n",
      "Epoch 15: val_loss did not improve from 0.55257\n",
      "\u001b[1m36/36\u001b[0m \u001b[32m━━━━━━━━━━━━━━━━━━━━\u001b[0m\u001b[37m\u001b[0m \u001b[1m0s\u001b[0m 10ms/step - accuracy: 0.7097 - loss: 0.7281 - val_accuracy: 0.7812 - val_loss: 0.5567 - learning_rate: 5.0000e-04\n",
      "Epoch 16/100\n",
      "\u001b[1m35/36\u001b[0m \u001b[32m━━━━━━━━━━━━━━━━━━━\u001b[0m\u001b[37m━\u001b[0m \u001b[1m0s\u001b[0m 8ms/step - accuracy: 0.7210 - loss: 0.6597\n",
      "Epoch 16: val_loss improved from 0.55257 to 0.55168, saving model to models/yamnet_sesa_model.keras\n",
      "\u001b[1m36/36\u001b[0m \u001b[32m━━━━━━━━━━━━━━━━━━━━\u001b[0m\u001b[37m\u001b[0m \u001b[1m0s\u001b[0m 12ms/step - accuracy: 0.7227 - loss: 0.6575 - val_accuracy: 0.7986 - val_loss: 0.5517 - learning_rate: 5.0000e-04\n",
      "Epoch 17/100\n",
      "\u001b[1m35/36\u001b[0m \u001b[32m━━━━━━━━━━━━━━━━━━━\u001b[0m\u001b[37m━\u001b[0m \u001b[1m0s\u001b[0m 8ms/step - accuracy: 0.7665 - loss: 0.6103\n",
      "Epoch 17: val_loss did not improve from 0.55168\n",
      "\u001b[1m36/36\u001b[0m \u001b[32m━━━━━━━━━━━━━━━━━━━━\u001b[0m\u001b[37m\u001b[0m \u001b[1m0s\u001b[0m 11ms/step - accuracy: 0.7674 - loss: 0.6091 - val_accuracy: 0.7639 - val_loss: 0.5762 - learning_rate: 5.0000e-04\n",
      "Epoch 18/100\n",
      "\u001b[1m36/36\u001b[0m \u001b[32m━━━━━━━━━━━━━━━━━━━━\u001b[0m\u001b[37m\u001b[0m \u001b[1m0s\u001b[0m 8ms/step - accuracy: 0.7707 - loss: 0.6094\n",
      "Epoch 18: val_loss improved from 0.55168 to 0.55084, saving model to models/yamnet_sesa_model.keras\n",
      "\u001b[1m36/36\u001b[0m \u001b[32m━━━━━━━━━━━━━━━━━━━━\u001b[0m\u001b[37m\u001b[0m \u001b[1m0s\u001b[0m 11ms/step - accuracy: 0.7708 - loss: 0.6091 - val_accuracy: 0.7257 - val_loss: 0.5508 - learning_rate: 5.0000e-04\n",
      "Epoch 19/100\n",
      "\u001b[1m36/36\u001b[0m \u001b[32m━━━━━━━━━━━━━━━━━━━━\u001b[0m\u001b[37m\u001b[0m \u001b[1m0s\u001b[0m 8ms/step - accuracy: 0.7993 - loss: 0.5583\n",
      "Epoch 19: val_loss improved from 0.55084 to 0.47218, saving model to models/yamnet_sesa_model.keras\n",
      "\u001b[1m36/36\u001b[0m \u001b[32m━━━━━━━━━━━━━━━━━━━━\u001b[0m\u001b[37m\u001b[0m \u001b[1m0s\u001b[0m 11ms/step - accuracy: 0.7989 - loss: 0.5590 - val_accuracy: 0.8229 - val_loss: 0.4722 - learning_rate: 5.0000e-04\n",
      "Epoch 20/100\n",
      "\u001b[1m36/36\u001b[0m \u001b[32m━━━━━━━━━━━━━━━━━━━━\u001b[0m\u001b[37m\u001b[0m \u001b[1m0s\u001b[0m 8ms/step - accuracy: 0.7949 - loss: 0.5540\n",
      "Epoch 20: val_loss improved from 0.47218 to 0.41482, saving model to models/yamnet_sesa_model.keras\n",
      "\u001b[1m36/36\u001b[0m \u001b[32m━━━━━━━━━━━━━━━━━━━━\u001b[0m\u001b[37m\u001b[0m \u001b[1m0s\u001b[0m 12ms/step - accuracy: 0.7945 - loss: 0.5545 - val_accuracy: 0.8576 - val_loss: 0.4148 - learning_rate: 5.0000e-04\n",
      "Epoch 21/100\n",
      "\u001b[1m32/36\u001b[0m \u001b[32m━━━━━━━━━━━━━━━━━\u001b[0m\u001b[37m━━━\u001b[0m \u001b[1m0s\u001b[0m 9ms/step - accuracy: 0.8017 - loss: 0.5262\n",
      "Epoch 21: val_loss did not improve from 0.41482\n",
      "\u001b[1m36/36\u001b[0m \u001b[32m━━━━━━━━━━━━━━━━━━━━\u001b[0m\u001b[37m\u001b[0m \u001b[1m0s\u001b[0m 11ms/step - accuracy: 0.8022 - loss: 0.5270 - val_accuracy: 0.7535 - val_loss: 0.5672 - learning_rate: 5.0000e-04\n",
      "Epoch 22/100\n",
      "\u001b[1m35/36\u001b[0m \u001b[32m━━━━━━━━━━━━━━━━━━━\u001b[0m\u001b[37m━\u001b[0m \u001b[1m0s\u001b[0m 8ms/step - accuracy: 0.8251 - loss: 0.5107\n",
      "Epoch 22: val_loss did not improve from 0.41482\n",
      "\u001b[1m36/36\u001b[0m \u001b[32m━━━━━━━━━━━━━━━━━━━━\u001b[0m\u001b[37m\u001b[0m \u001b[1m0s\u001b[0m 10ms/step - accuracy: 0.8245 - loss: 0.5113 - val_accuracy: 0.7917 - val_loss: 0.5515 - learning_rate: 5.0000e-04\n",
      "Epoch 23/100\n",
      "\u001b[1m35/36\u001b[0m \u001b[32m━━━━━━━━━━━━━━━━━━━\u001b[0m\u001b[37m━\u001b[0m \u001b[1m0s\u001b[0m 10ms/step - accuracy: 0.8066 - loss: 0.5786\n",
      "Epoch 23: val_loss did not improve from 0.41482\n",
      "\u001b[1m36/36\u001b[0m \u001b[32m━━━━━━━━━━━━━━━━━━━━\u001b[0m\u001b[37m\u001b[0m \u001b[1m1s\u001b[0m 14ms/step - accuracy: 0.8061 - loss: 0.5781 - val_accuracy: 0.7674 - val_loss: 0.5598 - learning_rate: 5.0000e-04\n",
      "Epoch 24/100\n",
      "\u001b[1m35/36\u001b[0m \u001b[32m━━━━━━━━━━━━━━━━━━━\u001b[0m\u001b[37m━\u001b[0m \u001b[1m0s\u001b[0m 10ms/step - accuracy: 0.8087 - loss: 0.5072\n",
      "Epoch 24: val_loss did not improve from 0.41482\n",
      "\u001b[1m36/36\u001b[0m \u001b[32m━━━━━━━━━━━━━━━━━━━━\u001b[0m\u001b[37m\u001b[0m \u001b[1m0s\u001b[0m 13ms/step - accuracy: 0.8088 - loss: 0.5076 - val_accuracy: 0.8507 - val_loss: 0.4153 - learning_rate: 2.5000e-04\n",
      "Epoch 25/100\n",
      "\u001b[1m32/36\u001b[0m \u001b[32m━━━━━━━━━━━━━━━━━\u001b[0m\u001b[37m━━━\u001b[0m \u001b[1m0s\u001b[0m 9ms/step - accuracy: 0.8092 - loss: 0.4861\n",
      "Epoch 25: val_loss did not improve from 0.41482\n",
      "\u001b[1m36/36\u001b[0m \u001b[32m━━━━━━━━━━━━━━━━━━━━\u001b[0m\u001b[37m\u001b[0m \u001b[1m0s\u001b[0m 11ms/step - accuracy: 0.8094 - loss: 0.4883 - val_accuracy: 0.8611 - val_loss: 0.4596 - learning_rate: 2.5000e-04\n",
      "[INFO] Model saved to models/yamnet_sesa_model.keras\n"
     ]
    }
   ],
   "source": [
    "model, history = train_model(X_train, y_train)"
   ]
  },
  {
   "cell_type": "markdown",
   "id": "4dec897e",
   "metadata": {},
   "source": [
    "### 4. Evaluate Model"
   ]
  },
  {
   "cell_type": "code",
   "execution_count": 4,
   "id": "71952271",
   "metadata": {},
   "outputs": [
    {
     "name": "stdout",
     "output_type": "stream",
     "text": [
      "\u001b[1m4/4\u001b[0m \u001b[32m━━━━━━━━━━━━━━━━━━━━\u001b[0m\u001b[37m\u001b[0m \u001b[1m0s\u001b[0m 33ms/step\n",
      "              precision    recall  f1-score   support\n",
      "\n",
      "      Casual       0.83      0.86      0.85        29\n",
      "     Gunshot       0.94      0.76      0.84        21\n",
      "   Explosion       0.90      0.97      0.94        39\n",
      " Siren/Alarm       1.00      1.00      1.00        16\n",
      "\n",
      "    accuracy                           0.90       105\n",
      "   macro avg       0.92      0.90      0.91       105\n",
      "weighted avg       0.91      0.90      0.90       105\n",
      "\n"
     ]
    }
   ],
   "source": [
    "# Predict on test set\n",
    "y_pred_probs = model.predict(X_test)\n",
    "y_pred = np.argmax(y_pred_probs, axis=1)\n",
    "\n",
    "# Classification report\n",
    "print(classification_report(y_test, y_pred, target_names=[\"Casual\", \"Gunshot\", \"Explosion\", \"Siren/Alarm\"]))"
   ]
  },
  {
   "cell_type": "markdown",
   "id": "1860b3ac",
   "metadata": {},
   "source": [
    "### 5. Confusion Matrix"
   ]
  },
  {
   "cell_type": "code",
   "execution_count": 5,
   "id": "ea3eb18f",
   "metadata": {},
   "outputs": [
    {
     "data": {
      "image/png": "[encoded data removed]",
      "text/plain": [
       "<Figure size 600x500 with 2 Axes>"
      ]
     },
     "metadata": {},
     "output_type": "display_data"
    }
   ],
   "source": [
    "cm = confusion_matrix(y_test, y_pred)\n",
    "plt.figure(figsize=(6,5))\n",
    "sns.heatmap(cm, annot=True, fmt=\"d\", cmap=\"Blues\", xticklabels=[\"Casual\", \"Gunshot\", \"Explosion\", \"Siren/Alarm\"], yticklabels=[\"Casual\", \"Gunshot\", \"Explosion\", \"Siren/Alarm\"])\n",
    "plt.xlabel(\"Predicted\")\n",
    "plt.ylabel(\"Actual\")\n",
    "plt.title(\"Confusion Matrix\")\n",
    "plt.show()"
   ]
  },
  {
   "cell_type": "markdown",
   "id": "c3151334",
   "metadata": {},
   "source": [
    "### 6. Save Model"
   ]
  },
  {
   "cell_type": "code",
   "execution_count": 6,
   "id": "5975a9c2",
   "metadata": {},
   "outputs": [],
   "source": [
    "model.save(\"../models/yamnet_sesa_model.keras\")"
   ]
  },
  {
   "cell_type": "markdown",
   "id": "84480230",
   "metadata": {},
   "source": [
    "### 7. Test on a Single .wav File"
   ]
  },
  {
   "cell_type": "code",
   "execution_count": 19,
   "id": "70a5f18d",
   "metadata": {},
   "outputs": [
    {
     "name": "stdout",
     "output_type": "stream",
     "text": [
      "\u001b[1m1/1\u001b[0m \u001b[32m━━━━━━━━━━━━━━━━━━━━\u001b[0m\u001b[37m\u001b[0m \u001b[1m0s\u001b[0m 40ms/step\n",
      "Predicted: Siren/Alarm with confidence 1.00\n"
     ]
    }
   ],
   "source": [
    "\n",
    "result = predict_audio(\"../data/test/siren_050.wav\", model)\n",
    "if result is not None:\n",
    "\tprint(f\"Predicted: {result['label']} with confidence {result['confidence']:.2f}\")\n",
    "else:\n",
    "\tprint(\"Prediction failed: No result returned.\")"
   ]
  }
 ],
 "metadata": {
  "kernelspec": {
   "display_name": ".venv",
   "language": "python",
   "name": "python3"
  },
  "language_info": {
   "codemirror_mode": {
    "name": "ipython",
    "version": 3
   },
   "file_extension": ".py",
   "mimetype": "text/x-python",
   "name": "python",
   "nbconvert_exporter": "python",
   "pygments_lexer": "ipython3",
   "version": "3.10.17"
  }
 },
 "nbformat": 4,
 "nbformat_minor": 5
}
