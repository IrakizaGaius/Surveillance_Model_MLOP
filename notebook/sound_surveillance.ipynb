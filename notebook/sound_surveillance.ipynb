{
 "cells": [
  {
   "cell_type": "markdown",
   "id": "348711e6",
   "metadata": {},
   "source": [
    "### 1. Setup & Imports"
   ]
  },
  {
   "cell_type": "code",
   "execution_count": 1,
   "id": "1170c4c8",
   "metadata": {},
   "outputs": [
    {
     "name": "stderr",
     "output_type": "stream",
     "text": [
      "2025-07-23 22:19:09.916978: I tensorflow/core/platform/cpu_feature_guard.cc:210] This TensorFlow binary is optimized to use available CPU instructions in performance-critical operations.\n",
      "To enable the following instructions: AVX2 FMA, in other operations, rebuild TensorFlow with the appropriate compiler flags.\n"
     ]
    }
   ],
   "source": [
    "import numpy as np\n",
    "import matplotlib.pyplot as plt\n",
    "import seaborn as sns\n",
    "import sys\n",
    "import os\n",
    "\n",
    "project_root = os.path.abspath(os.path.join('..'))\n",
    "if project_root not in sys.path:\n",
    "    sys.path.append(project_root)\n",
    "\n",
    "from sklearn.metrics import classification_report, confusion_matrix\n",
    "from src.preprocessing import load_data_from_directory\n",
    "from src.model import train_model, load_trained_model\n",
    "from src.prediction import predict_audio"
   ]
  },
  {
   "cell_type": "markdown",
   "id": "44c56275",
   "metadata": {},
   "source": [
    "### 2. Load and Preprocess Data"
   ]
  },
  {
   "cell_type": "code",
   "execution_count": 2,
   "id": "2cff6a57",
   "metadata": {},
   "outputs": [
    {
     "name": "stdout",
     "output_type": "stream",
     "text": [
      "[INFO] Loaded 480 samples from ../data/train\n",
      "[INFO] Loaded 105 samples from ../data/test\n",
      "Train: (480, 1024), Labels: (array([0, 1, 2, 3]), array([140,  80, 170,  90]))\n",
      "Test: (105, 1024), Labels: (array([0, 1, 2, 3]), array([29, 21, 39, 16]))\n"
     ]
    }
   ],
   "source": [
    "X_train, y_train = load_data_from_directory(\"../data/train\")\n",
    "X_test, y_test = load_data_from_directory(\"../data/test\")\n",
    "print(f\"Train: {X_train.shape}, Labels: {np.unique(y_train, return_counts=True)}\")\n",
    "print(f\"Test: {X_test.shape}, Labels: {np.unique(y_test, return_counts=True)}\")"
   ]
  },
  {
   "cell_type": "markdown",
   "id": "95f135a3",
   "metadata": {},
   "source": [
    "### 3. Train the Model"
   ]
  },
  {
   "cell_type": "code",
   "execution_count": 3,
   "id": "902b752e",
   "metadata": {},
   "outputs": [
    {
     "name": "stdout",
     "output_type": "stream",
     "text": [
      "[INFO] Splitting data: train/test = 0.8/0.2\n",
      "[INFO] Building model...\n",
      "[INFO] Starting training...\n",
      "Epoch 1/15\n",
      "24/24 - 1s - 51ms/step - accuracy: 0.7188 - loss: 0.7878 - val_accuracy: 0.8542 - val_loss: 0.4740\n",
      "Epoch 2/15\n",
      "24/24 - 0s - 7ms/step - accuracy: 0.8958 - loss: 0.3351 - val_accuracy: 0.9062 - val_loss: 0.3026\n",
      "Epoch 3/15\n",
      "24/24 - 0s - 7ms/step - accuracy: 0.9193 - loss: 0.2636 - val_accuracy: 0.9062 - val_loss: 0.2973\n",
      "Epoch 4/15\n",
      "24/24 - 0s - 8ms/step - accuracy: 0.9479 - loss: 0.1825 - val_accuracy: 0.9062 - val_loss: 0.2632\n",
      "Epoch 5/15\n",
      "24/24 - 0s - 8ms/step - accuracy: 0.9661 - loss: 0.1511 - val_accuracy: 0.9167 - val_loss: 0.2652\n",
      "Epoch 6/15\n",
      "24/24 - 0s - 7ms/step - accuracy: 0.9635 - loss: 0.1356 - val_accuracy: 0.8958 - val_loss: 0.2738\n",
      "Epoch 7/15\n",
      "24/24 - 0s - 7ms/step - accuracy: 0.9635 - loss: 0.1212 - val_accuracy: 0.9167 - val_loss: 0.2343\n",
      "Epoch 8/15\n",
      "24/24 - 0s - 7ms/step - accuracy: 0.9714 - loss: 0.1130 - val_accuracy: 0.9167 - val_loss: 0.2467\n",
      "Epoch 9/15\n",
      "24/24 - 0s - 7ms/step - accuracy: 0.9818 - loss: 0.0970 - val_accuracy: 0.9271 - val_loss: 0.2325\n",
      "Epoch 10/15\n",
      "24/24 - 0s - 7ms/step - accuracy: 0.9870 - loss: 0.0810 - val_accuracy: 0.9271 - val_loss: 0.2177\n",
      "Epoch 11/15\n",
      "24/24 - 0s - 7ms/step - accuracy: 0.9844 - loss: 0.0811 - val_accuracy: 0.9062 - val_loss: 0.2160\n",
      "Epoch 12/15\n",
      "24/24 - 0s - 7ms/step - accuracy: 0.9870 - loss: 0.0607 - val_accuracy: 0.9271 - val_loss: 0.1925\n",
      "Epoch 13/15\n",
      "24/24 - 0s - 7ms/step - accuracy: 0.9818 - loss: 0.0579 - val_accuracy: 0.9167 - val_loss: 0.2378\n",
      "Epoch 14/15\n",
      "24/24 - 0s - 7ms/step - accuracy: 0.9844 - loss: 0.0553 - val_accuracy: 0.9062 - val_loss: 0.2011\n",
      "Epoch 15/15\n",
      "24/24 - 0s - 7ms/step - accuracy: 0.9870 - loss: 0.0429 - val_accuracy: 0.9375 - val_loss: 0.2159\n"
     ]
    },
    {
     "name": "stderr",
     "output_type": "stream",
     "text": [
      "WARNING:absl:You are saving your model as an HDF5 file via `model.save()` or `keras.saving.save_model(model)`. This file format is considered legacy. We recommend using instead the native Keras format, e.g. `model.save('my_model.keras')` or `keras.saving.save_model(model, 'my_model.keras')`. \n"
     ]
    },
    {
     "name": "stdout",
     "output_type": "stream",
     "text": [
      "[INFO] Model saved to models/yamnet_sesa_model.h5\n"
     ]
    }
   ],
   "source": [
    "model, history = train_model(X_train, y_train)"
   ]
  },
  {
   "cell_type": "markdown",
   "id": "4dec897e",
   "metadata": {},
   "source": [
    "### 4. Evaluate Model"
   ]
  },
  {
   "cell_type": "code",
   "execution_count": 4,
   "id": "71952271",
   "metadata": {},
   "outputs": [
    {
     "name": "stdout",
     "output_type": "stream",
     "text": [
      "\u001b[1m4/4\u001b[0m \u001b[32m━━━━━━━━━━━━━━━━━━━━\u001b[0m\u001b[37m\u001b[0m \u001b[1m0s\u001b[0m 18ms/step\n",
      "              precision    recall  f1-score   support\n",
      "\n",
      "      Casual       0.89      0.83      0.86        29\n",
      "     Gunshot       0.90      0.86      0.88        21\n",
      "   Explosion       0.93      0.95      0.94        39\n",
      " Siren/Alarm       0.89      1.00      0.94        16\n",
      "\n",
      "    accuracy                           0.90       105\n",
      "   macro avg       0.90      0.91      0.90       105\n",
      "weighted avg       0.90      0.90      0.90       105\n",
      "\n"
     ]
    }
   ],
   "source": [
    "# Predict on test set\n",
    "y_pred_probs = model.predict(X_test)\n",
    "y_pred = np.argmax(y_pred_probs, axis=1)\n",
    "\n",
    "# Classification report\n",
    "print(classification_report(y_test, y_pred, target_names=[\"Casual\", \"Gunshot\", \"Explosion\", \"Siren/Alarm\"]))"
   ]
  },
  {
   "cell_type": "markdown",
   "id": "1860b3ac",
   "metadata": {},
   "source": [
    "### 5. Confusion Matrix"
   ]
  },
  {
   "cell_type": "code",
   "execution_count": 5,
   "id": "ea3eb18f",
   "metadata": {},
   "outputs": [
    {
     "data": {
      "image/png": "[encoded data removed]",
      "text/plain": [
       "<Figure size 600x500 with 2 Axes>"
      ]
     },
     "metadata": {},
     "output_type": "display_data"
    }
   ],
   "source": [
    "cm = confusion_matrix(y_test, y_pred)\n",
    "plt.figure(figsize=(6,5))\n",
    "sns.heatmap(cm, annot=True, fmt=\"d\", cmap=\"Blues\", xticklabels=[\"Casual\", \"Gunshot\", \"Explosion\", \"Siren/Alarm\"], yticklabels=[\"Casual\", \"Gunshot\", \"Explosion\", \"Siren/Alarm\"])\n",
    "plt.xlabel(\"Predicted\")\n",
    "plt.ylabel(\"Actual\")\n",
    "plt.title(\"Confusion Matrix\")\n",
    "plt.show()"
   ]
  },
  {
   "cell_type": "markdown",
   "id": "c3151334",
   "metadata": {},
   "source": [
    "### 6. Save Model"
   ]
  },
  {
   "cell_type": "code",
   "execution_count": 6,
   "id": "5975a9c2",
   "metadata": {},
   "outputs": [
    {
     "name": "stderr",
     "output_type": "stream",
     "text": [
      "WARNING:absl:You are saving your model as an HDF5 file via `model.save()` or `keras.saving.save_model(model)`. This file format is considered legacy. We recommend using instead the native Keras format, e.g. `model.save('my_model.keras')` or `keras.saving.save_model(model, 'my_model.keras')`. \n"
     ]
    }
   ],
   "source": [
    "model.save(\"../models/yamnet_sesa_model.h5\")"
   ]
  },
  {
   "cell_type": "markdown",
   "id": "84480230",
   "metadata": {},
   "source": [
    "### 7. Test on a Single .wav File"
   ]
  },
  {
   "cell_type": "code",
   "execution_count": 25,
   "id": "70a5f18d",
   "metadata": {},
   "outputs": [
    {
     "name": "stdout",
     "output_type": "stream",
     "text": [
      "\u001b[1m1/1\u001b[0m \u001b[32m━━━━━━━━━━━━━━━━━━━━\u001b[0m\u001b[37m\u001b[0m \u001b[1m0s\u001b[0m 39ms/step\n",
      "Predicted: Gunshot with confidence 0.98\n"
     ]
    }
   ],
   "source": [
    "\n",
    "result = predict_audio(\"../data/test/gunshot_061.wav\", model)\n",
    "print(f\"Predicted: {result['label']} with confidence {result['confidence']:.2f}\")"
   ]
  }
 ],
 "metadata": {
  "kernelspec": {
   "display_name": ".venv",
   "language": "python",
   "name": "python3"
  },
  "language_info": {
   "codemirror_mode": {
    "name": "ipython",
    "version": 3
   },
   "file_extension": ".py",
   "mimetype": "text/x-python",
   "name": "python",
   "nbconvert_exporter": "python",
   "pygments_lexer": "ipython3",
   "version": "3.10.17"
  }
 },
 "nbformat": 4,
 "nbformat_minor": 5
}
