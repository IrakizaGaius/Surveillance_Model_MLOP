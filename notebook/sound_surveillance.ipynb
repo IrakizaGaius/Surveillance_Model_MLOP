{
 "cells": [
  {
   "cell_type": "markdown",
   "id": "348711e6",
   "metadata": {},
   "source": [
    "### 1. Setup & Imports"
   ]
  },
  {
   "cell_type": "code",
   "execution_count": 1,
   "id": "1170c4c8",
   "metadata": {},
   "outputs": [
    {
     "name": "stderr",
     "output_type": "stream",
     "text": [
      "2025-07-28 11:35:21.362322: I tensorflow/core/platform/cpu_feature_guard.cc:210] This TensorFlow binary is optimized to use available CPU instructions in performance-critical operations.\n",
      "To enable the following instructions: AVX2 FMA, in other operations, rebuild TensorFlow with the appropriate compiler flags.\n"
     ]
    }
   ],
   "source": [
    "import numpy as np\n",
    "import matplotlib.pyplot as plt\n",
    "import seaborn as sns\n",
    "import sys\n",
    "import os\n",
    "\n",
    "project_root = os.path.abspath(os.path.join('..'))\n",
    "if project_root not in sys.path:\n",
    "    sys.path.append(project_root)\n",
    "\n",
    "from sklearn.metrics import classification_report, confusion_matrix\n",
    "from src.preprocessing import load_data_from_directory\n",
    "from src.model import train_model, load_trained_model\n",
    "from src.prediction import predict_audio"
   ]
  },
  {
   "cell_type": "markdown",
   "id": "f6f40874",
   "metadata": {},
   "source": [
    "### Model Versioning"
   ]
  },
  {
   "cell_type": "code",
   "execution_count": 2,
   "id": "44de64e6",
   "metadata": {},
   "outputs": [],
   "source": [
    "# Define model version\n",
    "MODEL_VERSION = \"v1\"\n",
    "MODEL_NAME = f\"sesa_model_{MODEL_VERSION}.keras\"\n",
    "MODEL_DIR = f\"../models/model_{MODEL_VERSION}\"\n",
    "os.makedirs(MODEL_DIR, exist_ok=True)\n"
   ]
  },
  {
   "cell_type": "markdown",
   "id": "44c56275",
   "metadata": {},
   "source": [
    "### 2. Load and Preprocess Data"
   ]
  },
  {
   "cell_type": "code",
   "execution_count": 3,
   "id": "2cff6a57",
   "metadata": {},
   "outputs": [
    {
     "name": "stdout",
     "output_type": "stream",
     "text": [
      "[INFO] Loaded 1440 valid samples from '../data/train_v1' (augment=True)\n",
      "[INFO] Loaded 105 valid samples from '../data/test' (augment=False)\n",
      "Train: (1440, 1024), Labels: (array([0, 1, 2, 3]), array([420, 240, 510, 270]))\n",
      "Test: (105, 1024), Labels: (array([0, 1, 2, 3]), array([29, 21, 39, 16]))\n"
     ]
    }
   ],
   "source": [
    "X_train, y_train = load_data_from_directory(\"../data/train_v1\", augment=True)\n",
    "X_test, y_test = load_data_from_directory(\"../data/test\")\n",
    "print(f\"Train: {X_train.shape}, Labels: {np.unique(y_train, return_counts=True)}\")\n",
    "print(f\"Test: {X_test.shape}, Labels: {np.unique(y_test, return_counts=True)}\")"
   ]
  },
  {
   "cell_type": "markdown",
   "id": "95f135a3",
   "metadata": {},
   "source": [
    "### 3. Train the Model"
   ]
  },
  {
   "cell_type": "code",
   "execution_count": null,
   "id": "902b752e",
   "metadata": {},
   "outputs": [
    {
     "name": "stdout",
     "output_type": "stream",
     "text": [
      "[INFO] Splitting data: train/test = 0.8/0.2\n",
      "[INFO] Building model...\n",
      "[INFO] Starting training...\n",
      "Epoch 1/100\n",
      "\u001b[1m35/36\u001b[0m \u001b[32m━━━━━━━━━━━━━━━━━━━\u001b[0m\u001b[37m━\u001b[0m \u001b[1m0s\u001b[0m 8ms/step - accuracy: 0.3327 - loss: 1.4519\n",
      "Epoch 1: val_loss improved from inf to 1.37477, saving model to ../models/yamnet_sesa_model.keras\n",
      "\u001b[1m36/36\u001b[0m \u001b[32m━━━━━━━━━━━━━━━━━━━━\u001b[0m\u001b[37m\u001b[0m \u001b[1m2s\u001b[0m 17ms/step - accuracy: 0.3340 - loss: 1.4486 - val_accuracy: 0.4514 - val_loss: 1.3748 - learning_rate: 0.0010\n",
      "Epoch 2/100\n",
      "\u001b[1m31/36\u001b[0m \u001b[32m━━━━━━━━━━━━━━━━━\u001b[0m\u001b[37m━━━\u001b[0m \u001b[1m0s\u001b[0m 8ms/step - accuracy: 0.3647 - loss: 1.3824\n",
      "Epoch 2: val_loss improved from 1.37477 to 1.28785, saving model to ../models/yamnet_sesa_model.keras\n",
      "\u001b[1m36/36\u001b[0m \u001b[32m━━━━━━━━━━━━━━━━━━━━\u001b[0m\u001b[37m\u001b[0m \u001b[1m0s\u001b[0m 12ms/step - accuracy: 0.3715 - loss: 1.3762 - val_accuracy: 0.4896 - val_loss: 1.2878 - learning_rate: 0.0010\n",
      "Epoch 3/100\n",
      "\u001b[1m33/36\u001b[0m \u001b[32m━━━━━━━━━━━━━━━━━━\u001b[0m\u001b[37m━━\u001b[0m \u001b[1m0s\u001b[0m 8ms/step - accuracy: 0.4498 - loss: 1.2384\n",
      "Epoch 3: val_loss improved from 1.28785 to 1.01661, saving model to ../models/yamnet_sesa_model.keras\n",
      "\u001b[1m36/36\u001b[0m \u001b[32m━━━━━━━━━━━━━━━━━━━━\u001b[0m\u001b[37m\u001b[0m \u001b[1m0s\u001b[0m 12ms/step - accuracy: 0.4530 - loss: 1.2327 - val_accuracy: 0.5590 - val_loss: 1.0166 - learning_rate: 0.0010\n",
      "Epoch 4/100\n",
      "\u001b[1m34/36\u001b[0m \u001b[32m━━━━━━━━━━━━━━━━━━\u001b[0m\u001b[37m━━\u001b[0m \u001b[1m0s\u001b[0m 8ms/step - accuracy: 0.5176 - loss: 1.0939\n",
      "Epoch 4: val_loss improved from 1.01661 to 0.98457, saving model to ../models/yamnet_sesa_model.keras\n",
      "\u001b[1m36/36\u001b[0m \u001b[32m━━━━━━━━━━━━━━━━━━━━\u001b[0m\u001b[37m\u001b[0m \u001b[1m0s\u001b[0m 12ms/step - accuracy: 0.5175 - loss: 1.0933 - val_accuracy: 0.6215 - val_loss: 0.9846 - learning_rate: 0.0010\n",
      "Epoch 5/100\n",
      "\u001b[1m35/36\u001b[0m \u001b[32m━━━━━━━━━━━━━━━━━━━\u001b[0m\u001b[37m━\u001b[0m \u001b[1m0s\u001b[0m 8ms/step - accuracy: 0.5575 - loss: 1.0072\n",
      "Epoch 5: val_loss improved from 0.98457 to 0.96958, saving model to ../models/yamnet_sesa_model.keras\n",
      "\u001b[1m36/36\u001b[0m \u001b[32m━━━━━━━━━━━━━━━━━━━━\u001b[0m\u001b[37m\u001b[0m \u001b[1m0s\u001b[0m 12ms/step - accuracy: 0.5576 - loss: 1.0080 - val_accuracy: 0.5035 - val_loss: 0.9696 - learning_rate: 0.0010\n",
      "Epoch 6/100\n",
      "\u001b[1m32/36\u001b[0m \u001b[32m━━━━━━━━━━━━━━━━━\u001b[0m\u001b[37m━━━\u001b[0m \u001b[1m0s\u001b[0m 9ms/step - accuracy: 0.5749 - loss: 0.9771\n",
      "Epoch 6: val_loss improved from 0.96958 to 0.92421, saving model to ../models/yamnet_sesa_model.keras\n",
      "\u001b[1m36/36\u001b[0m \u001b[32m━━━━━━━━━━━━━━━━━━━━\u001b[0m\u001b[37m\u001b[0m \u001b[1m0s\u001b[0m 13ms/step - accuracy: 0.5772 - loss: 0.9737 - val_accuracy: 0.6007 - val_loss: 0.9242 - learning_rate: 0.0010\n",
      "Epoch 7/100\n",
      "\u001b[1m32/36\u001b[0m \u001b[32m━━━━━━━━━━━━━━━━━\u001b[0m\u001b[37m━━━\u001b[0m \u001b[1m0s\u001b[0m 9ms/step - accuracy: 0.6267 - loss: 0.9190\n",
      "Epoch 7: val_loss improved from 0.92421 to 0.79184, saving model to ../models/yamnet_sesa_model.keras\n",
      "\u001b[1m36/36\u001b[0m \u001b[32m━━━━━━━━━━━━━━━━━━━━\u001b[0m\u001b[37m\u001b[0m \u001b[1m0s\u001b[0m 13ms/step - accuracy: 0.6242 - loss: 0.9224 - val_accuracy: 0.5521 - val_loss: 0.7918 - learning_rate: 0.0010\n",
      "Epoch 8/100\n",
      "\u001b[1m35/36\u001b[0m \u001b[32m━━━━━━━━━━━━━━━━━━━\u001b[0m\u001b[37m━\u001b[0m \u001b[1m0s\u001b[0m 8ms/step - accuracy: 0.6865 - loss: 0.8026\n",
      "Epoch 8: val_loss improved from 0.79184 to 0.75354, saving model to ../models/yamnet_sesa_model.keras\n",
      "\u001b[1m36/36\u001b[0m \u001b[32m━━━━━━━━━━━━━━━━━━━━\u001b[0m\u001b[37m\u001b[0m \u001b[1m0s\u001b[0m 12ms/step - accuracy: 0.6853 - loss: 0.8041 - val_accuracy: 0.5521 - val_loss: 0.7535 - learning_rate: 0.0010\n",
      "Epoch 9/100\n",
      "\u001b[1m36/36\u001b[0m \u001b[32m━━━━━━━━━━━━━━━━━━━━\u001b[0m\u001b[37m\u001b[0m \u001b[1m0s\u001b[0m 8ms/step - accuracy: 0.6686 - loss: 0.8225\n",
      "Epoch 9: val_loss did not improve from 0.75354\n",
      "\u001b[1m36/36\u001b[0m \u001b[32m━━━━━━━━━━━━━━━━━━━━\u001b[0m\u001b[37m\u001b[0m \u001b[1m0s\u001b[0m 10ms/step - accuracy: 0.6682 - loss: 0.8226 - val_accuracy: 0.5972 - val_loss: 1.0037 - learning_rate: 0.0010\n",
      "Epoch 10/100\n",
      "\u001b[1m36/36\u001b[0m \u001b[32m━━━━━━━━━━━━━━━━━━━━\u001b[0m\u001b[37m\u001b[0m \u001b[1m0s\u001b[0m 8ms/step - accuracy: 0.6691 - loss: 0.8220\n",
      "Epoch 10: val_loss did not improve from 0.75354\n",
      "\u001b[1m36/36\u001b[0m \u001b[32m━━━━━━━━━━━━━━━━━━━━\u001b[0m\u001b[37m\u001b[0m \u001b[1m0s\u001b[0m 10ms/step - accuracy: 0.6695 - loss: 0.8215 - val_accuracy: 0.4653 - val_loss: 1.2365 - learning_rate: 0.0010\n",
      "Epoch 11/100\n",
      "\u001b[1m34/36\u001b[0m \u001b[32m━━━━━━━━━━━━━━━━━━\u001b[0m\u001b[37m━━\u001b[0m \u001b[1m0s\u001b[0m 8ms/step - accuracy: 0.7099 - loss: 0.7441\n",
      "Epoch 11: val_loss did not improve from 0.75354\n",
      "\u001b[1m36/36\u001b[0m \u001b[32m━━━━━━━━━━━━━━━━━━━━\u001b[0m\u001b[37m\u001b[0m \u001b[1m0s\u001b[0m 11ms/step - accuracy: 0.7092 - loss: 0.7458 - val_accuracy: 0.5972 - val_loss: 0.7654 - learning_rate: 0.0010\n",
      "Epoch 12/100\n",
      "\u001b[1m36/36\u001b[0m \u001b[32m━━━━━━━━━━━━━━━━━━━━\u001b[0m\u001b[37m\u001b[0m \u001b[1m0s\u001b[0m 8ms/step - accuracy: 0.6796 - loss: 0.8002\n",
      "Epoch 12: val_loss improved from 0.75354 to 0.65698, saving model to ../models/yamnet_sesa_model.keras\n",
      "\u001b[1m36/36\u001b[0m \u001b[32m━━━━━━━━━━━━━━━━━━━━\u001b[0m\u001b[37m\u001b[0m \u001b[1m0s\u001b[0m 12ms/step - accuracy: 0.6805 - loss: 0.7980 - val_accuracy: 0.7153 - val_loss: 0.6570 - learning_rate: 5.0000e-04\n",
      "Epoch 13/100\n",
      "\u001b[1m34/36\u001b[0m \u001b[32m━━━━━━━━━━━━━━━━━━\u001b[0m\u001b[37m━━\u001b[0m \u001b[1m0s\u001b[0m 8ms/step - accuracy: 0.7339 - loss: 0.6710\n",
      "Epoch 13: val_loss improved from 0.65698 to 0.54840, saving model to ../models/yamnet_sesa_model.keras\n",
      "\u001b[1m36/36\u001b[0m \u001b[32m━━━━━━━━━━━━━━━━━━━━\u001b[0m\u001b[37m\u001b[0m \u001b[1m0s\u001b[0m 12ms/step - accuracy: 0.7340 - loss: 0.6703 - val_accuracy: 0.7917 - val_loss: 0.5484 - learning_rate: 5.0000e-04\n",
      "Epoch 14/100\n",
      "\u001b[1m35/36\u001b[0m \u001b[32m━━━━━━━━━━━━━━━━━━━\u001b[0m\u001b[37m━\u001b[0m \u001b[1m0s\u001b[0m 8ms/step - accuracy: 0.7346 - loss: 0.6628\n",
      "Epoch 14: val_loss did not improve from 0.54840\n",
      "\u001b[1m36/36\u001b[0m \u001b[32m━━━━━━━━━━━━━━━━━━━━\u001b[0m\u001b[37m\u001b[0m \u001b[1m0s\u001b[0m 10ms/step - accuracy: 0.7354 - loss: 0.6612 - val_accuracy: 0.7639 - val_loss: 0.5767 - learning_rate: 5.0000e-04\n",
      "Epoch 15/100\n",
      "\u001b[1m36/36\u001b[0m \u001b[32m━━━━━━━━━━━━━━━━━━━━\u001b[0m\u001b[37m\u001b[0m \u001b[1m0s\u001b[0m 8ms/step - accuracy: 0.7497 - loss: 0.6809\n",
      "Epoch 15: val_loss improved from 0.54840 to 0.50684, saving model to ../models/yamnet_sesa_model.keras\n",
      "\u001b[1m36/36\u001b[0m \u001b[32m━━━━━━━━━━━━━━━━━━━━\u001b[0m\u001b[37m\u001b[0m \u001b[1m0s\u001b[0m 12ms/step - accuracy: 0.7501 - loss: 0.6795 - val_accuracy: 0.8229 - val_loss: 0.5068 - learning_rate: 5.0000e-04\n",
      "Epoch 16/100\n",
      "\u001b[1m36/36\u001b[0m \u001b[32m━━━━━━━━━━━━━━━━━━━━\u001b[0m\u001b[37m\u001b[0m \u001b[1m0s\u001b[0m 8ms/step - accuracy: 0.7787 - loss: 0.5635\n",
      "Epoch 16: val_loss did not improve from 0.50684\n",
      "\u001b[1m36/36\u001b[0m \u001b[32m━━━━━━━━━━━━━━━━━━━━\u001b[0m\u001b[37m\u001b[0m \u001b[1m0s\u001b[0m 10ms/step - accuracy: 0.7785 - loss: 0.5646 - val_accuracy: 0.7535 - val_loss: 0.5273 - learning_rate: 5.0000e-04\n",
      "Epoch 17/100\n",
      "\u001b[1m36/36\u001b[0m \u001b[32m━━━━━━━━━━━━━━━━━━━━\u001b[0m\u001b[37m\u001b[0m \u001b[1m0s\u001b[0m 8ms/step - accuracy: 0.7766 - loss: 0.5718\n",
      "Epoch 17: val_loss improved from 0.50684 to 0.44175, saving model to ../models/yamnet_sesa_model.keras\n",
      "\u001b[1m36/36\u001b[0m \u001b[32m━━━━━━━━━━━━━━━━━━━━\u001b[0m\u001b[37m\u001b[0m \u001b[1m0s\u001b[0m 12ms/step - accuracy: 0.7765 - loss: 0.5725 - val_accuracy: 0.8194 - val_loss: 0.4417 - learning_rate: 5.0000e-04\n",
      "Epoch 18/100\n",
      "\u001b[1m34/36\u001b[0m \u001b[32m━━━━━━━━━━━━━━━━━━\u001b[0m\u001b[37m━━\u001b[0m \u001b[1m0s\u001b[0m 8ms/step - accuracy: 0.8116 - loss: 0.5447\n",
      "Epoch 18: val_loss did not improve from 0.44175\n",
      "\u001b[1m36/36\u001b[0m \u001b[32m━━━━━━━━━━━━━━━━━━━━\u001b[0m\u001b[37m\u001b[0m \u001b[1m0s\u001b[0m 10ms/step - accuracy: 0.8097 - loss: 0.5465 - val_accuracy: 0.7882 - val_loss: 0.6269 - learning_rate: 5.0000e-04\n",
      "Epoch 19/100\n",
      "\u001b[1m35/36\u001b[0m \u001b[32m━━━━━━━━━━━━━━━━━━━\u001b[0m\u001b[37m━\u001b[0m \u001b[1m0s\u001b[0m 8ms/step - accuracy: 0.7748 - loss: 0.6100\n",
      "Epoch 19: val_loss improved from 0.44175 to 0.38411, saving model to ../models/yamnet_sesa_model.keras\n",
      "\u001b[1m36/36\u001b[0m \u001b[32m━━━━━━━━━━━━━━━━━━━━\u001b[0m\u001b[37m\u001b[0m \u001b[1m0s\u001b[0m 13ms/step - accuracy: 0.7754 - loss: 0.6082 - val_accuracy: 0.8681 - val_loss: 0.3841 - learning_rate: 5.0000e-04\n",
      "Epoch 20/100\n",
      "\u001b[1m33/36\u001b[0m \u001b[32m━━━━━━━━━━━━━━━━━━\u001b[0m\u001b[37m━━\u001b[0m \u001b[1m0s\u001b[0m 11ms/step - accuracy: 0.7706 - loss: 0.5615\n",
      "Epoch 20: val_loss did not improve from 0.38411\n",
      "\u001b[1m36/36\u001b[0m \u001b[32m━━━━━━━━━━━━━━━━━━━━\u001b[0m\u001b[37m\u001b[0m \u001b[1m0s\u001b[0m 13ms/step - accuracy: 0.7705 - loss: 0.5642 - val_accuracy: 0.8090 - val_loss: 0.4968 - learning_rate: 5.0000e-04\n",
      "Epoch 21/100\n",
      "\u001b[1m33/36\u001b[0m \u001b[32m━━━━━━━━━━━━━━━━━━\u001b[0m\u001b[37m━━\u001b[0m \u001b[1m0s\u001b[0m 9ms/step - accuracy: 0.7751 - loss: 0.5429\n",
      "Epoch 21: val_loss did not improve from 0.38411\n",
      "\u001b[1m36/36\u001b[0m \u001b[32m━━━━━━━━━━━━━━━━━━━━\u001b[0m\u001b[37m\u001b[0m \u001b[1m0s\u001b[0m 11ms/step - accuracy: 0.7779 - loss: 0.5414 - val_accuracy: 0.7812 - val_loss: 0.4775 - learning_rate: 5.0000e-04\n",
      "Epoch 22/100\n",
      "\u001b[1m36/36\u001b[0m \u001b[32m━━━━━━━━━━━━━━━━━━━━\u001b[0m\u001b[37m\u001b[0m \u001b[1m0s\u001b[0m 9ms/step - accuracy: 0.8114 - loss: 0.5136\n",
      "Epoch 22: val_loss did not improve from 0.38411\n",
      "\u001b[1m36/36\u001b[0m \u001b[32m━━━━━━━━━━━━━━━━━━━━\u001b[0m\u001b[37m\u001b[0m \u001b[1m0s\u001b[0m 12ms/step - accuracy: 0.8111 - loss: 0.5145 - val_accuracy: 0.7986 - val_loss: 0.5577 - learning_rate: 5.0000e-04\n",
      "Epoch 23/100\n",
      "\u001b[1m31/36\u001b[0m \u001b[32m━━━━━━━━━━━━━━━━━\u001b[0m\u001b[37m━━━\u001b[0m \u001b[1m0s\u001b[0m 9ms/step - accuracy: 0.7771 - loss: 0.5968\n",
      "Epoch 23: val_loss did not improve from 0.38411\n",
      "\u001b[1m36/36\u001b[0m \u001b[32m━━━━━━━━━━━━━━━━━━━━\u001b[0m\u001b[37m\u001b[0m \u001b[1m0s\u001b[0m 11ms/step - accuracy: 0.7802 - loss: 0.5870 - val_accuracy: 0.8229 - val_loss: 0.4055 - learning_rate: 2.5000e-04\n",
      "Epoch 24/100\n",
      "\u001b[1m34/36\u001b[0m \u001b[32m━━━━━━━━━━━━━━━━━━\u001b[0m\u001b[37m━━\u001b[0m \u001b[1m0s\u001b[0m 8ms/step - accuracy: 0.8145 - loss: 0.4885\n",
      "Epoch 24: val_loss did not improve from 0.38411\n",
      "\u001b[1m36/36\u001b[0m \u001b[32m━━━━━━━━━━━━━━━━━━━━\u001b[0m\u001b[37m\u001b[0m \u001b[1m0s\u001b[0m 12ms/step - accuracy: 0.8145 - loss: 0.4903 - val_accuracy: 0.8090 - val_loss: 0.4022 - learning_rate: 2.5000e-04\n",
      "[INFO] Model saved to ../models/yamnet_sesa_model.keras\n"
     ]
    }
   ],
   "source": [
    "model, history = train_model(X_train, y_train, model_path=\"../models/model_v1/sesa_model_v1.keras\")"
   ]
  },
  {
   "cell_type": "markdown",
   "id": "4dec897e",
   "metadata": {},
   "source": [
    "### 4. Evaluate Model"
   ]
  },
  {
   "cell_type": "code",
   "execution_count": 5,
   "id": "71952271",
   "metadata": {},
   "outputs": [
    {
     "name": "stdout",
     "output_type": "stream",
     "text": [
      "\u001b[1m4/4\u001b[0m \u001b[32m━━━━━━━━━━━━━━━━━━━━\u001b[0m\u001b[37m\u001b[0m \u001b[1m0s\u001b[0m 28ms/step\n",
      "              precision    recall  f1-score   support\n",
      "\n",
      "      Casual       0.88      0.79      0.84        29\n",
      "     Gunshot       0.86      0.86      0.86        21\n",
      "   Explosion       0.90      0.95      0.93        39\n",
      " Siren/Alarm       0.94      1.00      0.97        16\n",
      "\n",
      "    accuracy                           0.90       105\n",
      "   macro avg       0.90      0.90      0.90       105\n",
      "weighted avg       0.89      0.90      0.89       105\n",
      "\n"
     ]
    }
   ],
   "source": [
    "# Predict on test set\n",
    "y_pred_probs = model.predict(X_test)\n",
    "y_pred = np.argmax(y_pred_probs, axis=1)\n",
    "\n",
    "# Classification report\n",
    "print(classification_report(y_test, y_pred, target_names=[\"Casual\", \"Gunshot\", \"Explosion\", \"Siren/Alarm\"]))"
   ]
  },
  {
   "cell_type": "markdown",
   "id": "1860b3ac",
   "metadata": {},
   "source": [
    "### 5. Confusion Matrix"
   ]
  },
  {
   "cell_type": "code",
   "execution_count": 6,
   "id": "ea3eb18f",
   "metadata": {},
   "outputs": [
    {
     "data": {
      "image/png": "[encoded data removed]",
      "text/plain": [
       "<Figure size 600x500 with 2 Axes>"
      ]
     },
     "metadata": {},
     "output_type": "display_data"
    }
   ],
   "source": [
    "cm = confusion_matrix(y_test, y_pred)\n",
    "plt.figure(figsize=(6,5))\n",
    "sns.heatmap(cm, annot=True, fmt=\"d\", cmap=\"Blues\", xticklabels=[\"Casual\", \"Gunshot\", \"Explosion\", \"Siren/Alarm\"], yticklabels=[\"Casual\", \"Gunshot\", \"Explosion\", \"Siren/Alarm\"])\n",
    "plt.xlabel(\"Predicted\")\n",
    "plt.ylabel(\"Actual\")\n",
    "plt.title(\"Confusion Matrix\")\n",
    "plt.show()"
   ]
  },
  {
   "cell_type": "markdown",
   "id": "c3151334",
   "metadata": {},
   "source": [
    "### 6. Save Model"
   ]
  },
  {
   "cell_type": "code",
   "execution_count": 7,
   "id": "5975a9c2",
   "metadata": {},
   "outputs": [],
   "source": [
    "model.save(os.path.join(MODEL_DIR, MODEL_NAME))"
   ]
  },
  {
   "cell_type": "markdown",
   "id": "84480230",
   "metadata": {},
   "source": [
    "### 7. Test on a Single .wav File"
   ]
  },
  {
   "cell_type": "code",
   "execution_count": 8,
   "id": "70a5f18d",
   "metadata": {},
   "outputs": [
    {
     "name": "stdout",
     "output_type": "stream",
     "text": [
      "\u001b[1m1/1\u001b[0m \u001b[32m━━━━━━━━━━━━━━━━━━━━\u001b[0m\u001b[37m\u001b[0m \u001b[1m0s\u001b[0m 39ms/step\n",
      "Predicted: Siren/Alarm with confidence 1.00\n"
     ]
    }
   ],
   "source": [
    "\n",
    "result = predict_audio(\"../data/test/siren_050.wav\", model)\n",
    "if result is not None:\n",
    "\tprint(f\"Predicted: {result['label']} with confidence {result['confidence']:.2f}\")\n",
    "else:\n",
    "\tprint(\"Prediction failed: No result returned.\")"
   ]
  }
 ],
 "metadata": {
  "kernelspec": {
   "display_name": ".venv",
   "language": "python",
   "name": "python3"
  },
  "language_info": {
   "codemirror_mode": {
    "name": "ipython",
    "version": 3
   },
   "file_extension": ".py",
   "mimetype": "text/x-python",
   "name": "python",
   "nbconvert_exporter": "python",
   "pygments_lexer": "ipython3",
   "version": "3.10.17"
  }
 },
 "nbformat": 4,
 "nbformat_minor": 5
}
